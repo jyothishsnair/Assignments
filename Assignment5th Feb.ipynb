{
 "cells": [
  {
   "cell_type": "markdown",
   "id": "341f6f1e-e175-4735-863d-8dea409bdddc",
   "metadata": {},
   "source": [
    "## Q1. Explain Class and Object with respect to Object-Oriented Programming. Give a suitable example."
   ]
  },
  {
   "cell_type": "markdown",
   "id": "898baee7-9767-454f-8228-d46942669fea",
   "metadata": {},
   "source": [
    "Object Oriented Programming use the concept of object and classes.\n",
    "\n",
    "It aim to implement inheritance,Polymorphism,encapsulation.\n",
    "\n",
    "OOPs concept bind the data and the function which work as a single unit.\n",
    "\n",
    "Class\n",
    "\n",
    "-> Collection of object.\n",
    "\n",
    "-> A class contains the blueprints.\n",
    "\n",
    "-> Classes are created by keyword class.\n",
    "\n",
    "  Class classname:\n",
    "  \n",
    "       #statement1\n",
    "\n",
    "Object\n",
    "\n",
    "-> Object is an entity that has a state.\n",
    "        \n",
    "        objec= classname()\n"
   ]
  },
  {
   "cell_type": "markdown",
   "id": "3f644e11-7ba1-4acd-8a9f-cfa6ee623da6",
   "metadata": {},
   "source": [
    "## Q2. Name the four pillars of OOPs."
   ]
  },
  {
   "cell_type": "markdown",
   "id": "c2e141a6-a1dd-418d-9e91-dc8d3f8ee0e7",
   "metadata": {},
   "source": [
    "The four pillars of object-oriented programming are:\n",
    "\n",
    "-> Abstraction\n",
    "\n",
    "-> Encapsulation\n",
    "\n",
    "-> Inheritance\n",
    "\n",
    "-> Polymorphism"
   ]
  },
  {
   "cell_type": "markdown",
   "id": "bf001067-1908-4b13-a3f8-ff9e6e49c09c",
   "metadata": {},
   "source": [
    "## Q3. Explain why the __init__() function is used. Give a suitable example."
   ]
  },
  {
   "cell_type": "markdown",
   "id": "ff13ee18-dfd3-431e-ae1f-0876cd8df0aa",
   "metadata": {},
   "source": [
    "\"__init__\" is a reseved method in python classes. It is called as a constructor in object oriented terminology. This method is called when an object is created from a class and it allows the class to initialize the attributes of the clas\n",
    "\n",
    "class Car: \n",
    "\n",
    "    def __init__(self, color) \n",
    "    \n",
    "        self.color = color "
   ]
  },
  {
   "cell_type": "markdown",
   "id": "89cc3655-f377-432a-8df9-c2ecc380b833",
   "metadata": {},
   "source": [
    "## Q4. Why self is used in OOPs?"
   ]
  },
  {
   "cell_type": "markdown",
   "id": "6b228ca7-e0ea-4819-9bd4-741274d7a3ed",
   "metadata": {},
   "source": [
    "Self variable is used to represent the instance of the class which is often used in object-oriented programming. It works as a reference to the object. Python uses the self parameter to refer to instance attributes and methods of the class."
   ]
  },
  {
   "cell_type": "markdown",
   "id": "1191c0ba-bc47-4c97-982f-0b4c767edc4d",
   "metadata": {},
   "source": [
    "## Q5. What is inheritance? Give an example for each type of inheritance."
   ]
  },
  {
   "cell_type": "markdown",
   "id": "828ed189-41a5-4805-a035-c79510b088ba",
   "metadata": {},
   "source": [
    "Inheritance is a mechanism of acquiring the features and behaviors of a class by another class. The class whose members are inherited is called the base class, and the class that inherits those members is called the derived class.\n",
    "\n"
   ]
  },
  {
   "cell_type": "code",
   "execution_count": null,
   "id": "50e1239a-32a3-4e5b-827a-dcbdede4696f",
   "metadata": {},
   "outputs": [],
   "source": []
  }
 ],
 "metadata": {
  "kernelspec": {
   "display_name": "Python 3 (ipykernel)",
   "language": "python",
   "name": "python3"
  },
  "language_info": {
   "codemirror_mode": {
    "name": "ipython",
    "version": 3
   },
   "file_extension": ".py",
   "mimetype": "text/x-python",
   "name": "python",
   "nbconvert_exporter": "python",
   "pygments_lexer": "ipython3",
   "version": "3.10.8"
  }
 },
 "nbformat": 4,
 "nbformat_minor": 5
}

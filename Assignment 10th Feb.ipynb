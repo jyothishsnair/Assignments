{
 "cells": [
  {
   "cell_type": "markdown",
   "id": "a3d8bf94-1c90-4f6e-a3f9-514abfd2e531",
   "metadata": {},
   "source": [
    "### Q1. Which function is used to open a file? What are the different modes of opening a file? Explain each mode of file opening."
   ]
  },
  {
   "cell_type": "markdown",
   "id": "50d4be70-0824-436c-88b8-2087539a332e",
   "metadata": {},
   "source": [
    "-> open() method to open files.\n",
    "\n",
    "Open a file for reading. (default) - 'r'\n"
   ]
  },
  {
   "cell_type": "code",
   "execution_count": 1,
   "id": "2f003041-7778-4f54-b5a0-e5179501e70c",
   "metadata": {},
   "outputs": [],
   "source": [
    "file1 = open(\"test.txt\", \"r\")"
   ]
  },
  {
   "cell_type": "markdown",
   "id": "6a04bc7f-19ef-4316-9461-a7b612c11f05",
   "metadata": {},
   "source": [
    "Open a file for writing - 'w'"
   ]
  },
  {
   "cell_type": "code",
   "execution_count": 2,
   "id": "38f0ed16-7182-46d6-89e3-3265c56cf726",
   "metadata": {},
   "outputs": [],
   "source": [
    "file1 = open(\"test.txt\", \"w\")"
   ]
  },
  {
   "cell_type": "markdown",
   "id": "6eb52330-2661-4b13-9513-755c853580bb",
   "metadata": {},
   "source": [
    "Create a new life and open it for writing"
   ]
  },
  {
   "cell_type": "code",
   "execution_count": 4,
   "id": "25c62cbb-ffe9-4ece-89d9-3f2ea146004b",
   "metadata": {},
   "outputs": [],
   "source": [
    "file1 = open(\"test1.txt\",\"x\")"
   ]
  },
  {
   "cell_type": "markdown",
   "id": "febc9c76-39a3-462c-ad08-66bf01626519",
   "metadata": {},
   "source": [
    "Open for writing ,appending to the end of the file if it exist"
   ]
  },
  {
   "cell_type": "code",
   "execution_count": 6,
   "id": "11ec43c5-3881-4370-a5f3-9a2099f1fdc8",
   "metadata": {},
   "outputs": [],
   "source": [
    "file1 = open(\"test1.txt\",\"a\")"
   ]
  },
  {
   "cell_type": "markdown",
   "id": "c1cd7891-f2aa-4c4f-b904-37c4b8c3f174",
   "metadata": {},
   "source": [
    "Binary Mode"
   ]
  },
  {
   "cell_type": "code",
   "execution_count": 7,
   "id": "59e052fc-b956-43ce-9d54-8d7519262be1",
   "metadata": {},
   "outputs": [],
   "source": [
    "file1 = open(\"test1.bin\",'wb')"
   ]
  },
  {
   "cell_type": "markdown",
   "id": "dfa79962-b84d-456c-9626-cafd7269d211",
   "metadata": {},
   "source": [
    "### Q2. Why close() function is used? Why is it important to close a file?"
   ]
  },
  {
   "cell_type": "markdown",
   "id": "1c1bec9e-6b46-4501-8fcf-b403fa96331c",
   "metadata": {},
   "source": [
    "Python file method close() closes the opened file. A closed file cannot be read or written any more. Any operation, which requires that the file be opened will raise a ValueError after the file has been closed. Calling close() more than once is allowed."
   ]
  },
  {
   "cell_type": "markdown",
   "id": "a479624b-091e-441a-aef8-21d1ca9a4305",
   "metadata": {},
   "source": [
    "### Q3. Write a python program to create a text file. Write ‘I want to become a Data Scientist’ in that file. Then close the file. Open this file and read the content of the file"
   ]
  },
  {
   "cell_type": "code",
   "execution_count": 15,
   "id": "56bbb3e1-479e-4827-aef1-c9d6e57b8752",
   "metadata": {},
   "outputs": [],
   "source": [
    "with open(\"test.txt\",'w') as t:\n",
    "    t.write(\"I want to become a Data Scientist\")"
   ]
  },
  {
   "cell_type": "code",
   "execution_count": 16,
   "id": "86a4a3fe-532b-4b99-a535-7ad6cc207522",
   "metadata": {},
   "outputs": [],
   "source": [
    "import logging\n",
    "logging.basicConfig(filename = 'test.log',level = logging.DEBUG,format = '%(asctime)s %(message)s')\n",
    "with open(\"test.txt\",'r') as t:\n",
    "    data = t.read()\n",
    "    logging.info(data)"
   ]
  },
  {
   "cell_type": "markdown",
   "id": "41187636-7802-4603-9afc-66b85ba95650",
   "metadata": {},
   "source": [
    "### Q4. Explain the following with python code: read(), readline() and readlines()."
   ]
  },
  {
   "cell_type": "markdown",
   "id": "2ef7e5cc-aab7-48dc-8575-f4aac3240509",
   "metadata": {},
   "source": [
    "Read(): Returns the read bytes in the form of a string. Reads n bytes; if n is not specified, then reads the entire file.\n",
    "\n",
    "Readline(): Reads a line of the file and returns in the form of a string. For specified n, reads at most n bytes. \n",
    "\n",
    "readlines(): Reads all the lines and returns them as a string element in a list. Readlines ( ) is used to read all the lines at a single go and then return them as a string element in a list."
   ]
  },
  {
   "cell_type": "markdown",
   "id": "e79c7d8c-861a-4740-a50d-8e352229d9bc",
   "metadata": {},
   "source": [
    "### Q5. Explain why with statement is used with open(). What is the advantage of using with statement and open() together?"
   ]
  },
  {
   "cell_type": "markdown",
   "id": "8e22de76-dd65-49bc-9657-b15b2f54639a",
   "metadata": {},
   "source": [
    " with statement is used in exception handling to make the code cleaner and much more readable. It simplifies the management of common resources like file streams. \n",
    " \n",
    " Using with means that the file will be closed as soon as you leave the block."
   ]
  },
  {
   "cell_type": "markdown",
   "id": "5085c4ec-65b7-489e-903e-8b87a7f6064f",
   "metadata": {},
   "source": [
    "### Q6. Explain the write() and writelines() functions. Give a suitable example."
   ]
  },
  {
   "cell_type": "markdown",
   "id": "641d7e35-2319-45a3-b84d-c6ca26864e5f",
   "metadata": {},
   "source": [
    "write() function\n",
    "The write() function will write the content in the file without adding any extra characters\n",
    "\n"
   ]
  }
 ],
 "metadata": {
  "kernelspec": {
   "display_name": "Python 3 (ipykernel)",
   "language": "python",
   "name": "python3"
  },
  "language_info": {
   "codemirror_mode": {
    "name": "ipython",
    "version": 3
   },
   "file_extension": ".py",
   "mimetype": "text/x-python",
   "name": "python",
   "nbconvert_exporter": "python",
   "pygments_lexer": "ipython3",
   "version": "3.10.8"
  }
 },
 "nbformat": 4,
 "nbformat_minor": 5
}

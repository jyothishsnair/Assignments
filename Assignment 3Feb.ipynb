{
 "cells": [
  {
   "cell_type": "markdown",
   "id": "c826c4cd-5eff-488a-b545-8d317627b2bb",
   "metadata": {},
   "source": [
    "#### 1.Which keyword is used to create a function ? Create a function to return a list of odd number in the range of 1 to 25."
   ]
  },
  {
   "cell_type": "markdown",
   "id": "85b40700-f44a-43e3-abe1-02f22c3d2fe2",
   "metadata": {},
   "source": [
    "def keyword is used to create a function."
   ]
  },
  {
   "cell_type": "code",
   "execution_count": 2,
   "id": "88ef77d5-7eb8-4894-9126-d60f03d2eb34",
   "metadata": {},
   "outputs": [
    {
     "data": {
      "text/plain": [
       "range"
      ]
     },
     "execution_count": 2,
     "metadata": {},
     "output_type": "execute_result"
    }
   ],
   "source": [
    "type(range(1,26))"
   ]
  },
  {
   "cell_type": "code",
   "execution_count": 3,
   "id": "0f5e2fad-b84e-45e3-81a1-eec0218c30b6",
   "metadata": {},
   "outputs": [],
   "source": [
    "def odd_no(l):\n",
    "    l1=[]\n",
    "    for i in l:\n",
    "        if i % 2 != 0:\n",
    "            l1.append(i)\n",
    "    return l1\n",
    "            "
   ]
  },
  {
   "cell_type": "code",
   "execution_count": 5,
   "id": "5d286d78-94ea-452e-b834-926e8d081863",
   "metadata": {},
   "outputs": [
    {
     "data": {
      "text/plain": [
       "[1, 3, 5, 7, 9, 11, 13, 15, 17, 19, 21, 23, 25]"
      ]
     },
     "execution_count": 5,
     "metadata": {},
     "output_type": "execute_result"
    }
   ],
   "source": [
    "s=list(range(1,26))\n",
    "odd_no(s)"
   ]
  },
  {
   "cell_type": "markdown",
   "id": "78e6e5ca-c5ee-444d-9ca3-8a51dfa4a196",
   "metadata": {},
   "source": [
    "### Q2. Why *args and **kwargs is used in some functions? Create a function each for *args and **kwargs to demonstrate their use."
   ]
  },
  {
   "cell_type": "markdown",
   "id": "9d83402a-c7dd-416d-afaf-68f067d3b101",
   "metadata": {},
   "source": [
    "#### *args"
   ]
  },
  {
   "cell_type": "markdown",
   "id": "9943564d-794d-4401-8afe-5b4869e74af5",
   "metadata": {},
   "source": [
    "-> It is used to pass a variable number of argument to a function.\n",
    "\n",
    "-> It is used to pass a non-key word, variable length argument list.\n"
   ]
  },
  {
   "cell_type": "code",
   "execution_count": 6,
   "id": "739c87ce-2179-479a-8658-56f8dfeefcb2",
   "metadata": {},
   "outputs": [],
   "source": [
    "def fun(*arg):\n",
    "    return arg"
   ]
  },
  {
   "cell_type": "markdown",
   "id": "01e230a4-128e-4d61-9535-2d1f52e5ec4d",
   "metadata": {},
   "source": [
    "#### **kwargs"
   ]
  },
  {
   "cell_type": "markdown",
   "id": "84ab59b1-68b3-4a5c-a624-10793258c82e",
   "metadata": {},
   "source": [
    "-> It is used to pass a keyword varible length argument list."
   ]
  },
  {
   "cell_type": "code",
   "execution_count": 9,
   "id": "b66c6d93-8c5b-4a35-9083-6700a1de0cb6",
   "metadata": {},
   "outputs": [],
   "source": [
    "def fun(**kwarg):\n",
    "    for k,v in kwarg.items():\n",
    "        return k,v\n",
    "    "
   ]
  },
  {
   "cell_type": "markdown",
   "id": "386495ab-7d05-473b-96ef-37a72aef227c",
   "metadata": {},
   "source": [
    "### Q3.  What is an iterator in python? Name the method used to initialise the iterator object and the method used for iteration. Use these methods to print the first five elements of the given list [2, 4, 6, 8, 10, 12, 14, 16, 18, 20]."
   ]
  },
  {
   "cell_type": "markdown",
   "id": "fb80625b-f8fb-4a2b-a409-c77ccd2f3f71",
   "metadata": {},
   "source": [
    "-> Iterator is an object which store the current state through iteration and produce next value when you call next() method.iter() is the method used to initialise the iterator object ."
   ]
  },
  {
   "cell_type": "code",
   "execution_count": 46,
   "id": "ff00ed47-ddd4-4bf9-b4da-832c3a34c302",
   "metadata": {},
   "outputs": [],
   "source": [
    "def element(n,m):\n",
    "    for i in range(n):\n",
    "        yield m[i]"
   ]
  },
  {
   "cell_type": "code",
   "execution_count": 47,
   "id": "fad0717a-0979-48b2-9c4f-8a21c627d2b7",
   "metadata": {},
   "outputs": [],
   "source": [
    "e=element(5,[2,4,6,8,20,12,14,16,18,20])"
   ]
  },
  {
   "cell_type": "code",
   "execution_count": 48,
   "id": "410b958f-2f22-4b81-b48f-40d45510b54a",
   "metadata": {},
   "outputs": [
    {
     "name": "stdout",
     "output_type": "stream",
     "text": [
      "2\n",
      "4\n",
      "6\n",
      "8\n",
      "20\n"
     ]
    }
   ],
   "source": [
    "for i in e:\n",
    "    print(i)"
   ]
  },
  {
   "cell_type": "markdown",
   "id": "2e8dff53-4b2e-412e-9a20-e49c49bc41ba",
   "metadata": {},
   "source": [
    "#### Q4. What is a generator function in python? Why yield keyword is used? Give an example of a generator function."
   ]
  },
  {
   "cell_type": "markdown",
   "id": "ed8eab70-8509-4adb-aeef-3e0ad026251b",
   "metadata": {},
   "source": [
    "-> Generator create own iterator function\n",
    "\n",
    "-> Generator is a special type of function which does not return  single value,insted it return an iterator object.\n",
    "\n",
    "-> Yield keyword is similar to a return statement used for returing vale in pyhton.\n",
    "\n",
    "\n"
   ]
  },
  {
   "cell_type": "markdown",
   "id": "c2f47f7e-68e7-4fec-949a-cfb0bdb5e04f",
   "metadata": {},
   "source": [
    "#### Q5. Create a generator function for prime numbers less than 1000. Use the next() method to print the first 20 prime numbers."
   ]
  },
  {
   "cell_type": "code",
   "execution_count": 86,
   "id": "ac37b554-051b-4afb-b588-f1b0a3af241e",
   "metadata": {},
   "outputs": [],
   "source": [
    "from math import sqrt\n",
    "def is_prime(n):\n",
    "    if n<=1:\n",
    "        return False\n",
    "    if n==2:\n",
    "        return True\n",
    "    if n%2==0:\n",
    "        return False\n",
    "    i=3\n",
    "    while i <= sqrt(n):\n",
    "        if n % i ==0:\n",
    "            return False\n",
    "        i = i +2\n",
    "    return True"
   ]
  },
  {
   "cell_type": "code",
   "execution_count": 92,
   "id": "1441adc5-0585-42b4-b322-b1e7c627c473",
   "metadata": {},
   "outputs": [],
   "source": [
    "def prime_generator(limit=1000):\n",
    "    n=2\n",
    "    while True:\n",
    "        if n < limit:\n",
    "            if is_prime(n):\n",
    "                yield n\n",
    "            n = n+1\n",
    "        else:\n",
    "            break\n",
    "            "
   ]
  },
  {
   "cell_type": "code",
   "execution_count": 93,
   "id": "a3baa043-fa55-49c6-aebd-0ec78d8b98a6",
   "metadata": {},
   "outputs": [
    {
     "name": "stdout",
     "output_type": "stream",
     "text": [
      "2\n",
      "3\n",
      "5\n",
      "7\n",
      "11\n",
      "13\n",
      "17\n",
      "19\n",
      "23\n",
      "29\n",
      "31\n",
      "37\n",
      "41\n",
      "43\n",
      "47\n",
      "53\n",
      "59\n",
      "61\n",
      "67\n",
      "71\n"
     ]
    }
   ],
   "source": [
    "generator = prime_generator()\n",
    "\n",
    "for i in range(20):\n",
    "    print(next(generator))"
   ]
  },
  {
   "cell_type": "markdown",
   "id": "89a1ab94-2151-41b9-9598-a44a27abed71",
   "metadata": {},
   "source": [
    "#### Q6. Write a python program to print the first 10 Fibonacci numbers using a while loop"
   ]
  },
  {
   "cell_type": "code",
   "execution_count": 15,
   "id": "70834f3a-4e0b-45a9-8358-667ce7908853",
   "metadata": {},
   "outputs": [
    {
     "name": "stdin",
     "output_type": "stream",
     "text": [
      "Enter the number 10\n"
     ]
    },
    {
     "name": "stdout",
     "output_type": "stream",
     "text": [
      "0\n",
      "1\n",
      "1\n",
      "2\n",
      "3\n",
      "5\n",
      "8\n",
      "13\n",
      "21\n",
      "34\n"
     ]
    }
   ],
   "source": [
    "def fibonacci(n,a=0,b=1):\n",
    "    \"\"\" Function used to get the fibonacci series for the given integer\"\"\"\n",
    "    counter =0\n",
    "    while counter < n:\n",
    "        print(a)\n",
    "        c=a+b\n",
    "        a=b\n",
    "        b=c\n",
    "        counter=counter+1\n",
    "n=int(input(\"Enter the number\"))\n",
    "fibonacci(n)"
   ]
  },
  {
   "cell_type": "markdown",
   "id": "603792a3-d4b4-4506-977d-46fcbeac03bc",
   "metadata": {},
   "source": [
    "#### Q7. Write a List Comprehension to iterate through the given string: ‘pwskills’.Expected output: ['p', 'w', 's', 'k', 'i', 'l', 'l', 's'] "
   ]
  },
  {
   "cell_type": "code",
   "execution_count": 16,
   "id": "ad734d69-0b4a-4234-a94a-d52548b7fceb",
   "metadata": {},
   "outputs": [
    {
     "data": {
      "text/plain": [
       "['p', 'w', 's', 'k', 'i', 'l', 'l', 's']"
      ]
     },
     "execution_count": 16,
     "metadata": {},
     "output_type": "execute_result"
    }
   ],
   "source": [
    "string=\"pwskills\"\n",
    "[i for i in string]"
   ]
  },
  {
   "cell_type": "markdown",
   "id": "2b775b20-f432-4f49-8aca-8cfd47be2b26",
   "metadata": {},
   "source": [
    "#### Q8. Write a python program to check whether a given number is Palindrome or not using a while loop."
   ]
  },
  {
   "cell_type": "code",
   "execution_count": 20,
   "id": "5c41834b-2376-487a-b468-c44a1e1c31f7",
   "metadata": {},
   "outputs": [],
   "source": [
    "def palindrom(n):\n",
    "    temp=n\n",
    "    rev=0\n",
    "    while n>0:\n",
    "        a=n%10\n",
    "        rev=rev*10+a\n",
    "        n=n//10\n",
    "    if (temp==rev):\n",
    "        print(temp,\"is a Palindrom!\")\n",
    "    else:\n",
    "        print(temp,\"is not a Palindrom\")"
   ]
  },
  {
   "cell_type": "code",
   "execution_count": 30,
   "id": "9d060154-45e5-45a1-a2d7-885b397b337c",
   "metadata": {},
   "outputs": [
    {
     "name": "stdin",
     "output_type": "stream",
     "text": [
      "Enter the number 222\n"
     ]
    },
    {
     "name": "stdout",
     "output_type": "stream",
     "text": [
      "222 is a Palindrom!\n"
     ]
    }
   ],
   "source": [
    "n=int(input(\"Enter the number\"))\n",
    "\n",
    "palindrom(n)"
   ]
  },
  {
   "cell_type": "markdown",
   "id": "4a6ac93e-75c7-43ea-9398-a14497779f6b",
   "metadata": {},
   "source": [
    "#### Q9. Write a code to print odd numbers from 1 to 100 using list comprehension"
   ]
  },
  {
   "cell_type": "code",
   "execution_count": 45,
   "id": "a21557d6-30a5-4ecb-8eef-91e505d894fa",
   "metadata": {},
   "outputs": [
    {
     "name": "stdout",
     "output_type": "stream",
     "text": [
      "Range of number from 1 to 10 :\n",
      " [1, 2, 3, 4, 5, 6, 7, 8, 9, 10, 11, 12, 13, 14, 15, 16, 17, 18, 19, 20, 21, 22, 23, 24, 25, 26, 27, 28, 29, 30, 31, 32, 33, 34, 35, 36, 37, 38, 39, 40, 41, 42, 43, 44, 45, 46, 47, 48, 49, 50, 51, 52, 53, 54, 55, 56, 57, 58, 59, 60, 61, 62, 63, 64, 65, 66, 67, 68, 69, 70, 71, 72, 73, 74, 75, 76, 77, 78, 79, 80, 81, 82, 83, 84, 85, 86, 87, 88, 89, 90, 91, 92, 93, 94, 95, 96, 97, 98, 99, 100]\n",
      "Odd Number are :\n",
      " [1, 3, 5, 7, 9, 11, 13, 15, 17, 19, 21, 23, 25, 27, 29, 31, 33, 35, 37, 39, 41, 43, 45, 47, 49, 51, 53, 55, 57, 59, 61, 63, 65, 67, 69, 71, 73, 75, 77, 79, 81, 83, 85, 87, 89, 91, 93, 95, 97, 99]\n"
     ]
    }
   ],
   "source": [
    "number=[i for i in range(1,101)]\n",
    "print(\"Range of number from 1 to 10 :\\n\",number)\n",
    "odd_number=[i for i in number if i%2!=0]\n",
    "print(\"Odd Number are :\\n\",odd_number)"
   ]
  },
  {
   "cell_type": "code",
   "execution_count": null,
   "id": "836a91a6-5a29-41f9-816e-f48cb6fd7514",
   "metadata": {},
   "outputs": [],
   "source": []
  },
  {
   "cell_type": "code",
   "execution_count": null,
   "id": "8e423d64-4387-46ea-a01d-863daeb7a5da",
   "metadata": {},
   "outputs": [],
   "source": []
  }
 ],
 "metadata": {
  "kernelspec": {
   "display_name": "Python 3 (ipykernel)",
   "language": "python",
   "name": "python3"
  },
  "language_info": {
   "codemirror_mode": {
    "name": "ipython",
    "version": 3
   },
   "file_extension": ".py",
   "mimetype": "text/x-python",
   "name": "python",
   "nbconvert_exporter": "python",
   "pygments_lexer": "ipython3",
   "version": "3.10.8"
  }
 },
 "nbformat": 4,
 "nbformat_minor": 5
}

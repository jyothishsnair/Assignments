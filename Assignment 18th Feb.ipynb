{
 "cells": [
  {
   "cell_type": "markdown",
   "id": "4a10084d-b2be-4dfd-bac4-2cd75ea1f467",
   "metadata": {},
   "source": [
    "### Q1. What is an API? Give an example, where an API is used in real life."
   ]
  },
  {
   "cell_type": "markdown",
   "id": "f87a3723-6dc6-4912-af17-036a7d702b4e",
   "metadata": {},
   "source": [
    "APIs are mechanisms that enable two software components to communicate with each other using a set of definitions and protocols. For example, the weather bureau's software system contains daily weather data. The weather app on our phone “talks” to this system via APIs and shows us daily weather updates on our phone."
   ]
  },
  {
   "cell_type": "markdown",
   "id": "938b5ae6-5f72-488f-a7e1-c182465e209c",
   "metadata": {},
   "source": [
    "### Q2. Give advantages and disadvantages of using API."
   ]
  },
  {
   "cell_type": "markdown",
   "id": "38ed3d96-24ca-45d0-bd46-989ace8093aa",
   "metadata": {},
   "source": [
    "The main advantage of providing an API are:\n",
    "\n",
    "an integration. An example of an integration is to push notifications from your product (such as CRM, Helpdesk) to a messaging tool such as Slack. In this way, if your customer uses Slack they can receive notifications without having to login directly to your system or check emails.\n",
    "new functionality. In the early days of Twitter, some of the most popular Twitter clients were produced by third parties using the Twitter API. Twitter and its users benefited from the new functionality that was undertaken by other companies.\n",
    "\n",
    "The disadvantages to providing an API are:\n",
    "\n",
    "Cost. Providing an API is expensive in terms of development time, ongoing maintenance, providing API documentation on your website and providing support to users of your API.\n",
    "Security exposure. Adding an API adds another attack surface to your website."
   ]
  },
  {
   "cell_type": "markdown",
   "id": "8de80d9d-433d-4a54-93f7-2f0940f72645",
   "metadata": {},
   "source": [
    "### Q3. What is a Web API? Differentiate between API and Web API."
   ]
  },
  {
   "cell_type": "markdown",
   "id": "a05ede92-86bf-49c1-b592-e47b99b422a1",
   "metadata": {},
   "source": [
    "A Web API is an application programming interface for the Web.\n",
    "\n",
    "APIs and web services are technologies that enable the transfer of data between separate software applications. API is an interface that exposes an application's data to outside software, whereas web applications are one type of API with stricter requirements.\n"
   ]
  },
  {
   "cell_type": "markdown",
   "id": "3a8b1e7f-6dfe-4035-bd86-bc01bc5bf5eb",
   "metadata": {},
   "source": [
    "### Q4. Explain REST and SOAP Architecture. Mention shortcomings of SOAP."
   ]
  },
  {
   "cell_type": "markdown",
   "id": "b7449c78-e1bf-4108-92d5-447aaa6cb819",
   "metadata": {},
   "source": [
    "REST is a set of guidelines that offers flexible implementation, whereas SOAP is a protocol with specific requirements like XML messaging. REST APIs are lightweight, making them ideal for newer contexts like the Internet of Things (IoT), mobile application development, and serverless computing."
   ]
  },
  {
   "cell_type": "markdown",
   "id": "77b06e28-5073-4433-afce-c86e541966df",
   "metadata": {},
   "source": [
    "### Q5. Differentiate between REST and SOAP."
   ]
  },
  {
   "cell_type": "markdown",
   "id": "8895bd84-f59c-427b-a58f-3c9ac9d042db",
   "metadata": {},
   "source": [
    "\n",
    "\n",
    "Image result for Differentiate between REST and SOAP.\n",
    "While SOAP and REST share similarities over the HTTP protocol, SOAP is a more rigid set of messaging patterns than REST. The rules in SOAP are important because we can't achieve any level of standardization without them. REST as an architecture style does not require processing and is naturally more flexible."
   ]
  },
  {
   "cell_type": "code",
   "execution_count": null,
   "id": "59dcf217-3b27-4a51-8553-1968076ce81f",
   "metadata": {},
   "outputs": [],
   "source": []
  }
 ],
 "metadata": {
  "kernelspec": {
   "display_name": "Python 3 (ipykernel)",
   "language": "python",
   "name": "python3"
  },
  "language_info": {
   "codemirror_mode": {
    "name": "ipython",
    "version": 3
   },
   "file_extension": ".py",
   "mimetype": "text/x-python",
   "name": "python",
   "nbconvert_exporter": "python",
   "pygments_lexer": "ipython3",
   "version": "3.10.8"
  }
 },
 "nbformat": 4,
 "nbformat_minor": 5
}

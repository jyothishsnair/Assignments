{
 "cells": [
  {
   "cell_type": "markdown",
   "id": "ebc91e2b-fead-4ca8-a4d8-e2b81362c019",
   "metadata": {},
   "source": [
    "1. Why are functions advantageous to have in your programs?"
   ]
  },
  {
   "cell_type": "markdown",
   "id": "0f3fbd0b-42c3-4763-8955-481533a52aa5",
   "metadata": {},
   "source": [
    "Function reduce the need for duplicate code.Thois makes programs shoter,easier to read and easier to update."
   ]
  },
  {
   "cell_type": "markdown",
   "id": "a98f8303-2abb-47ab-945b-1141536eb500",
   "metadata": {},
   "source": [
    "2. When does the code in a function run: when it's specified or when it's called?"
   ]
  },
  {
   "cell_type": "markdown",
   "id": "d528a205-526b-4844-b26e-d411a00b2de6",
   "metadata": {},
   "source": [
    "The code in a function execute  when the function is called ,when the function is defined."
   ]
  },
  {
   "cell_type": "markdown",
   "id": "a58f4923-15b7-4c9f-8848-af29ab36b833",
   "metadata": {},
   "source": [
    "3. What statement creates a function?"
   ]
  },
  {
   "cell_type": "markdown",
   "id": "e11e7060-24b8-4f6d-a8a7-54b98447eebb",
   "metadata": {},
   "source": [
    "def keyword statement creates a function."
   ]
  },
  {
   "cell_type": "markdown",
   "id": "88478d7c-c8db-4ede-9456-f2a01f142022",
   "metadata": {},
   "source": [
    "4. What is the difference between a function and a function call?"
   ]
  },
  {
   "cell_type": "markdown",
   "id": "2ea7db07-d236-417d-bda3-87eb7964afd3",
   "metadata": {},
   "source": [
    "A function is a piece of code which enhanced the reusability and modularity of the program.\n",
    "\n",
    "Function call means invoking or calling that function."
   ]
  },
  {
   "cell_type": "markdown",
   "id": "388edaf1-4ddb-4d49-810d-5047449842d0",
   "metadata": {},
   "source": [
    "5. How many global scopes are there in a Python program? How many local scopes?"
   ]
  },
  {
   "cell_type": "markdown",
   "id": "2d74f151-a962-4846-be54-19e69684dbed",
   "metadata": {},
   "source": [
    "There are only one global pyhton scope per program execution."
   ]
  },
  {
   "cell_type": "markdown",
   "id": "4cb36d57-d6c1-4460-9082-254d3974af11",
   "metadata": {},
   "source": [
    "6. What happens to variables in a local scope when the function call returns?"
   ]
  },
  {
   "cell_type": "markdown",
   "id": "163a7111-e8de-4700-92bf-82ba91224058",
   "metadata": {},
   "source": [
    "When the execution of the function terminates (returns) the local variable are destroyed."
   ]
  },
  {
   "cell_type": "markdown",
   "id": "fc7831a4-2183-404f-b0b4-710b4bac75c7",
   "metadata": {},
   "source": [
    "7. What is the concept of a return value? Is it possible to have a return value in an expression?"
   ]
  },
  {
   "cell_type": "markdown",
   "id": "c9f23fdd-ea2b-4743-bcb5-e1248d34cfdd",
   "metadata": {},
   "source": [
    "A return is a value that a function return to the calling script or function when it complete its task.\n",
    "\n",
    "If the data type of the expression is different from the function return type,conversion is different from the function return type, conversion of the return value take place as if the value of the expression were assigned to an object with same function return type."
   ]
  },
  {
   "cell_type": "markdown",
   "id": "61940386-fd6e-486a-a036-37c4db058fb1",
   "metadata": {},
   "source": [
    "8. If a function does not have a return statement, what is the return value of a call to that function?"
   ]
  },
  {
   "cell_type": "markdown",
   "id": "ae52de0e-6670-4b29-9266-30d2d788010f",
   "metadata": {},
   "source": [
    "Return value of the called function is undefined."
   ]
  },
  {
   "cell_type": "markdown",
   "id": "7d2f31c5-f6a6-48e4-a9d2-458b9b2994cf",
   "metadata": {},
   "source": [
    "9. How do you make a function variable refer to the global variable?"
   ]
  },
  {
   "cell_type": "code",
   "execution_count": null,
   "id": "1d71e5c0-d08c-4ca5-aedc-5bfcc730c86c",
   "metadata": {},
   "outputs": [],
   "source": [
    "When we create a varibale"
   ]
  }
 ],
 "metadata": {
  "kernelspec": {
   "display_name": "Python 3 (ipykernel)",
   "language": "python",
   "name": "python3"
  },
  "language_info": {
   "codemirror_mode": {
    "name": "ipython",
    "version": 3
   },
   "file_extension": ".py",
   "mimetype": "text/x-python",
   "name": "python",
   "nbconvert_exporter": "python",
   "pygments_lexer": "ipython3",
   "version": "3.10.8"
  }
 },
 "nbformat": 4,
 "nbformat_minor": 5
}

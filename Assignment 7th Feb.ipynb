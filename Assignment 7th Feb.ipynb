{
 "cells": [
  {
   "cell_type": "markdown",
   "id": "f6cc8cf5-8973-4f20-aa3a-75d98777072b",
   "metadata": {},
   "source": [
    "## Q1. You are writing code for a company. The requirement of the company is that you create a python function that will check whether the password entered by the user is correct or not. The function should take the password as input and return the string “Valid Password” if the entered password follows the below-given password guidelines else it should return “Invalid Password”.\n",
    "\n",
    "Note: 1. The Password should contain at least two uppercase letters and at least two lowercase letters.\n",
    "\n",
    "2. The Password should contain at least a number and three special characters.\n",
    "\n",
    "3. The length of the password should be 10 characters long."
   ]
  },
  {
   "cell_type": "code",
   "execution_count": 21,
   "id": "dcf037b6-77d1-4352-94a5-3ebe00466a81",
   "metadata": {},
   "outputs": [],
   "source": [
    "def Check_Password(String):\n",
    "    Length_count=0\n",
    "    Upper_case_count=0\n",
    "    Lower_case_count=0\n",
    "    Number_count=0\n",
    "    Special_case_count=0\n",
    "    for i in String:\n",
    "        if i.isnumeric():\n",
    "            Number_count=Number_count+1\n",
    "        elif i.isupper():\n",
    "            Upper_case_count=Upper_case_count+1\n",
    "        elif i.islower():\n",
    "            Lower_case_count=Lower_case_count+1\n",
    "        elif i in '[@_!#$^&*()<>?/\\|}{~:]':\n",
    "            Special_case_count=Special_case_count+11\n",
    "    if (len(String)==10) and (Upper_case_count>=2) and (Lower_case_count>=2) and (Number_count>=1) and (Special_case_count>=3):\n",
    "        print(\"Valid Password\")\n",
    "    else:\n",
    "        print(\"Invalid Password\")\n",
    "    \n"
   ]
  },
  {
   "cell_type": "code",
   "execution_count": 20,
   "id": "38ae1096-3e87-4f9c-9882-db6da1dbd5b2",
   "metadata": {},
   "outputs": [
    {
     "name": "stdin",
     "output_type": "stream",
     "text": [
      "Enter your password abc@#$1ABC\n"
     ]
    },
    {
     "name": "stdout",
     "output_type": "stream",
     "text": [
      "Valid Password\n"
     ]
    }
   ],
   "source": [
    "Password=input(\"Enter your password\")\n",
    "Check_Password(Password)"
   ]
  },
  {
   "cell_type": "markdown",
   "id": "606724b8-9eb5-44bd-8eaa-04d9f60373fe",
   "metadata": {},
   "source": [
    "## Q2. Solve the below-given questions using at least one of the following:\n",
    "\n",
    "1. Lambda function\n",
    "\n",
    "2. Filter function\n",
    "\n",
    "3. Zap function\n",
    "\n",
    "4. List ComprehensioI\n"
   ]
  },
  {
   "cell_type": "markdown",
   "id": "e1d159dc-fbd8-40e0-83af-1e552ac1db21",
   "metadata": {},
   "source": [
    "### Check if the string starts with a particular letter."
   ]
  },
  {
   "cell_type": "code",
   "execution_count": 53,
   "id": "7285fbaa-5e52-490d-b0d6-df47e78b1b06",
   "metadata": {},
   "outputs": [
    {
     "name": "stdin",
     "output_type": "stream",
     "text": [
      "Enter the string PYTHON\n"
     ]
    },
    {
     "name": "stdout",
     "output_type": "stream",
     "text": [
      "True\n",
      "False\n"
     ]
    }
   ],
   "source": [
    "def check_string(String,Letter):\n",
    "        [print(True) if String[0].lower()==Letter.lower() else print(False)]\n",
    "String=input(\"Enter the string\")\n",
    "check_string(String,\"P\")\n",
    "check_string(String,\"J\")"
   ]
  },
  {
   "cell_type": "markdown",
   "id": "38dffa40-8e42-4910-994a-27b5cc78f696",
   "metadata": {},
   "source": [
    "## Check if the string is numeric."
   ]
  },
  {
   "cell_type": "code",
   "execution_count": 72,
   "id": "84540c39-0ae3-4172-926b-43065e443250",
   "metadata": {},
   "outputs": [
    {
     "name": "stdout",
     "output_type": "stream",
     "text": [
      "True\n"
     ]
    }
   ],
   "source": [
    "String=\"12345\"\n",
    "\n",
    "def check_string_numeric(String):\n",
    "    [print(True) if String.isnumeric() else print(False)]\n",
    "check_string_numeric(String)"
   ]
  },
  {
   "cell_type": "markdown",
   "id": "840a1542-c95e-4f85-a43d-2bfa2281b405",
   "metadata": {},
   "source": [
    "## Sort a list of tuples having fruit names and their quantity. \n",
    "\n",
    "[(\"mango\",99),(\"orange\",80), (\"grapes\", 1000)]"
   ]
  },
  {
   "cell_type": "code",
   "execution_count": 74,
   "id": "d7c1c1d1-6920-4064-96ff-8f614f66e98e",
   "metadata": {},
   "outputs": [
    {
     "data": {
      "text/plain": [
       "[('orange', 80), ('mango', 99), ('grapes', 1000)]"
      ]
     },
     "execution_count": 74,
     "metadata": {},
     "output_type": "execute_result"
    }
   ],
   "source": [
    "List=[(\"mango\",99),(\"orange\",80), (\"grapes\", 1000)]\n",
    "\n",
    "Sorted_list=sorted(List,key=lambda x : x[1])\n",
    "Sorted_list"
   ]
  },
  {
   "cell_type": "markdown",
   "id": "15ef4266-ff1d-4f50-8d3a-80112fad4deb",
   "metadata": {},
   "source": [
    "## Find the squares of numbers from 1 to 10."
   ]
  },
  {
   "cell_type": "code",
   "execution_count": 78,
   "id": "63b2376f-f64b-408a-905a-25dadc1374f1",
   "metadata": {},
   "outputs": [
    {
     "data": {
      "text/plain": [
       "[1, 4, 9, 16, 25, 36, 49, 64, 81, 100]"
      ]
     },
     "execution_count": 78,
     "metadata": {},
     "output_type": "execute_result"
    }
   ],
   "source": [
    "def sq(x):\n",
    "    return x**2\n",
    "list(map(sq,range(1,11)))"
   ]
  },
  {
   "cell_type": "markdown",
   "id": "950ccc28-18ed-487f-8321-32f62b3f74be",
   "metadata": {},
   "source": [
    "## Find the cube root of numbers from 1 to 10."
   ]
  },
  {
   "cell_type": "code",
   "execution_count": 80,
   "id": "047325df-8f3b-4987-acee-f079e73081b9",
   "metadata": {},
   "outputs": [
    {
     "data": {
      "text/plain": [
       "[1, 8, 27, 64, 125, 216, 343, 512, 729, 1000]"
      ]
     },
     "execution_count": 80,
     "metadata": {},
     "output_type": "execute_result"
    }
   ],
   "source": [
    "def sq(x):\n",
    "    return x**3\n",
    "list(map(sq,range(1,11)))"
   ]
  },
  {
   "cell_type": "markdown",
   "id": "3abf19b5-818c-466b-a2e8-daab89b86c94",
   "metadata": {},
   "source": [
    "## Check if a given number is even."
   ]
  },
  {
   "cell_type": "markdown",
   "id": "1ccccd9b-169e-46fa-a4dd-da63b7be8bac",
   "metadata": {},
   "source": [
    "check_number=lambda n : \"Even Number\" if n%2==0 else \"Odd Number\"\n",
    "print(check_number(2))\n",
    "\n",
    "## Filter odd numbers from the given list.\n",
    "[1,2,3,4,5,6,7,8,9,10]"
   ]
  },
  {
   "cell_type": "code",
   "execution_count": 1,
   "id": "d251db85-6001-4a6b-b16f-374eed95363b",
   "metadata": {},
   "outputs": [
    {
     "data": {
      "text/plain": [
       "[1, 3, 5, 7, 9]"
      ]
     },
     "execution_count": 1,
     "metadata": {},
     "output_type": "execute_result"
    }
   ],
   "source": [
    "List=[1,2,3,4,5,6,7,8,9,10]\n",
    "\n",
    "list(filter(lambda x:x%2!=0 ,List))"
   ]
  },
  {
   "cell_type": "markdown",
   "id": "5a6df5e8-95ce-4acf-92a1-de5be0bf388e",
   "metadata": {},
   "source": [
    "## Sort a list of integers into positive and negative integers lists.\n",
    "[1,2,3,4,5,6,-1,-2,-3,-4,-5,0]"
   ]
  },
  {
   "cell_type": "code",
   "execution_count": 9,
   "id": "151f1743-aa7b-4f6c-884b-99c734302553",
   "metadata": {},
   "outputs": [],
   "source": [
    "List=[1,2,3,4,5,6,-1,-2,-3,-4,-5,0]\n",
    "\n",
    "def Pos_Neg(L):\n",
    "    Positive=list(filter(lambda x : if x>=0 ,L))\n",
    "    Negative=[]\n",
    "    lambda L : Positive.append(x) if x>=0 else Negative.append(x)\n",
    "    print(Positive)\n",
    "    print(Negative)\n",
    " "
   ]
  },
  {
   "cell_type": "code",
   "execution_count": 10,
   "id": "a8402346-b175-4cf7-82b0-310322afecfa",
   "metadata": {},
   "outputs": [
    {
     "name": "stdout",
     "output_type": "stream",
     "text": [
      "[]\n",
      "[]\n"
     ]
    }
   ],
   "source": [
    "Pos_Neg(List)"
   ]
  },
  {
   "cell_type": "code",
   "execution_count": null,
   "id": "3fd79ea4-76c4-4e05-af28-d2cbfea79373",
   "metadata": {},
   "outputs": [],
   "source": []
  }
 ],
 "metadata": {
  "kernelspec": {
   "display_name": "Python 3 (ipykernel)",
   "language": "python",
   "name": "python3"
  },
  "language_info": {
   "codemirror_mode": {
    "name": "ipython",
    "version": 3
   },
   "file_extension": ".py",
   "mimetype": "text/x-python",
   "name": "python",
   "nbconvert_exporter": "python",
   "pygments_lexer": "ipython3",
   "version": "3.10.8"
  }
 },
 "nbformat": 4,
 "nbformat_minor": 5
}

{
 "cells": [
  {
   "cell_type": "markdown",
   "id": "ff73a0df-49e6-4eb1-80eb-533d7d76c859",
   "metadata": {},
   "source": [
    "### Q1. What is Statistics?"
   ]
  },
  {
   "cell_type": "markdown",
   "id": "f1c69b71-d1ad-470f-8657-be825abe9f97",
   "metadata": {},
   "source": [
    "Statistics is the science concerned with developing,collecting,organizing,analyzing ,interpreting and presenting data."
   ]
  },
  {
   "cell_type": "markdown",
   "id": "86e8a991-0fc2-4b01-8b37-b646fd3c1aa8",
   "metadata": {},
   "source": [
    "### Q2. Define the different types of statistics and give an example of when each type might be used."
   ]
  },
  {
   "cell_type": "markdown",
   "id": "85c1c9bf-a71b-4787-932c-8268ad42d4c9",
   "metadata": {},
   "source": [
    "Various types of statistics are required for the collection ,description,organization ,analysis and interpretation of data.\n",
    "\n",
    "These types of statistics help to describe certain attribute related to data as well as estimate the parameters of the population by analyzing sample.\n",
    "\n",
    "Two type of statistics are:\n",
    "    i) Descriptive Statistics\n",
    "    ii) Inferential Statistics"
   ]
  },
  {
   "cell_type": "markdown",
   "id": "21f88f58-6180-4ded-9349-57fce4ff4758",
   "metadata": {},
   "source": [
    "### Q3. What are the different types of data and how do they differ from each other? Provide an example of each type of data."
   ]
  },
  {
   "cell_type": "markdown",
   "id": "296ad067-7ac7-48ae-8add-370758b6b2a6",
   "metadata": {},
   "source": [
    "Different types of data are:\n",
    "    i) Qualitative (Nominal,ordinal)\n",
    "    \n",
    "        eg: Gender,color,Eductional level\n",
    "    ii) Quantitative Data(Discrete,Continuous)\n",
    "    \n",
    "        eg: Wind speed,Temperature\n",
    "    "
   ]
  },
  {
   "cell_type": "markdown",
   "id": "8976087a-4bd2-4465-adb6-c9e604bc5ffd",
   "metadata": {},
   "source": [
    "### Q4. Categorise the following datasets with respect to quantitative and qualitative data types:\n",
    "(i) Grading in exam: A+, A, B+, B, C+, C, D, E\n",
    "\n",
    "(ii) Colour of mangoes: yellow, green, orange, red\n",
    "\n",
    "(iii) Height data of a class: [178.9, 179, 179.5, 176, 177.2, 178.3, 175.8,...]\n",
    "\n",
    "(iv) Number of mangoes exported by a farm: [500, 600, 478, 672, ...]"
   ]
  },
  {
   "cell_type": "markdown",
   "id": "72c88df8-c8f2-40f4-99fa-5d1962489d68",
   "metadata": {},
   "source": [
    "i)Ordianl Data\n",
    "\n",
    "ii) Nominal Data\n",
    "\n",
    "iii) Continuous Data\n",
    "\n",
    "iv) Discrete Data"
   ]
  },
  {
   "cell_type": "markdown",
   "id": "b2cb96d7-3235-46c6-8b7d-0cce15e0544e",
   "metadata": {},
   "source": [
    "### Q5. Explain the concept of levels of measurement and give an example of a variable for each level."
   ]
  },
  {
   "cell_type": "markdown",
   "id": "402f429b-7366-44b7-b36a-98d52e25fa58",
   "metadata": {},
   "source": [
    "Levels of measurement, also called scales of measurement, tell you how precisely variables are recorded. In scientific research, a variable is anything that can take on different values across your data set (e.g., height or test scores).\n",
    "\n",
    "There are 4 levels of measurement:\n",
    "\n",
    "Nominal: the data can only be categorized\n",
    "Ordinal: the data can be categorized and ranked\n",
    "Interval: the data can be categorized, ranked, and evenly spaced\n",
    "Ratio: the data can be categorized, ranked, evenly spaced, and has a natural zero."
   ]
  },
  {
   "cell_type": "markdown",
   "id": "3b9bcdd8-82dc-4b29-a3a2-9c4e7bc55540",
   "metadata": {},
   "source": [
    "### Q6. Why is it important to understand the level of measurement when analyzing data? Provide an example to illustrate your answer."
   ]
  },
  {
   "cell_type": "markdown",
   "id": "b757d7eb-946e-4c2c-86cb-f4eb40430e45",
   "metadata": {},
   "source": [
    "It is important to understand the level of measurement of variables in analysis because the level of measurement determines the type of statistical analysis that can be conducted, and, therefore, the type of conclusions that can be drawn from the research."
   ]
  },
  {
   "cell_type": "markdown",
   "id": "25434813-a737-4c16-a08b-750e06991f5d",
   "metadata": {},
   "source": [
    "### Q7. How nominal data type is different from ordinal data type."
   ]
  },
  {
   "cell_type": "markdown",
   "id": "3f2db98d-12e7-4ff7-87c5-20ecc1c487fc",
   "metadata": {},
   "source": [
    "Nominal data is classified without a natural order or rank, whereas ordinal data has a predetermined or natural order. "
   ]
  },
  {
   "cell_type": "markdown",
   "id": "e0569d4d-a0b3-4b98-b40d-10908b5b2328",
   "metadata": {},
   "source": [
    "### Q8. Which type of plot can be used to display data in terms of range?"
   ]
  },
  {
   "cell_type": "markdown",
   "id": "829962cc-30ad-4a63-96db-af3aba3b655a",
   "metadata": {},
   "source": [
    "A histogram is a graphical representation of data points organized into user-specified ranges."
   ]
  },
  {
   "cell_type": "markdown",
   "id": "5290e00e-4c86-4d00-9024-a7599a0212d6",
   "metadata": {},
   "source": [
    "### Q9. Describe the difference between descriptive and inferential statistics. Give an example of each type of statistics and explain how they are used."
   ]
  },
  {
   "cell_type": "markdown",
   "id": "81cb97c6-3e69-4996-9c46-0805676e482a",
   "metadata": {},
   "source": [
    "Descriptive statistics summarize the characteristics of a data set. Inferential statistics allow you to test a hypothesis or assess whether your data is generalizable to the broader population."
   ]
  },
  {
   "cell_type": "markdown",
   "id": "a30ba31f-5cbc-44bc-9ff4-648c5707f3f5",
   "metadata": {},
   "source": [
    "### Q10. What are some common measures of central tendency and variability used in statistics? Explain how each measure can be used to describe a dataset."
   ]
  },
  {
   "cell_type": "code",
   "execution_count": null,
   "id": "fba0c229-ee58-4031-87a8-79d06bc3e9c8",
   "metadata": {},
   "outputs": [],
   "source": []
  }
 ],
 "metadata": {
  "kernelspec": {
   "display_name": "Python 3 (ipykernel)",
   "language": "python",
   "name": "python3"
  },
  "language_info": {
   "codemirror_mode": {
    "name": "ipython",
    "version": 3
   },
   "file_extension": ".py",
   "mimetype": "text/x-python",
   "name": "python",
   "nbconvert_exporter": "python",
   "pygments_lexer": "ipython3",
   "version": "3.10.8"
  }
 },
 "nbformat": 4,
 "nbformat_minor": 5
}

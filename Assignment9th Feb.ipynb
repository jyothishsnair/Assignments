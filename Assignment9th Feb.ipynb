{
 "cells": [
  {
   "cell_type": "markdown",
   "id": "ee4cb044-62a1-4c49-a48f-0e981d25e6df",
   "metadata": {},
   "source": [
    "### Q1, Create a vehicle class with an init method having instance variables as name_of_vehicle, max_speed and average_of_vehicle."
   ]
  },
  {
   "cell_type": "code",
   "execution_count": 1,
   "id": "3eaf6afd-c774-40cf-99b3-b1e65e1a8a00",
   "metadata": {},
   "outputs": [],
   "source": [
    "class vehicle:\n",
    "    \n",
    "    def __init__(self,name_of_variable,max_speed,average_of_vehicle):\n",
    "        self.name_of_variable = name_of_variable\n",
    "        self.max_speed = max_speed\n",
    "        self.average_of_vehicle = average_of_vehicle"
   ]
  },
  {
   "cell_type": "markdown",
   "id": "d93e90d8-adb5-4f90-9601-ed932d7bfb7f",
   "metadata": {},
   "source": [
    "### Q2. Create a child class car from the vehicle class created in Que 1, which will inherit the vehicle class. Create a method named seating_capacity which takes capacity as an argument and returns the name of the vehicle and its seating capacity."
   ]
  },
  {
   "cell_type": "code",
   "execution_count": 34,
   "id": "7bff515a-1d91-485b-a07b-8354f10032a3",
   "metadata": {},
   "outputs": [],
   "source": [
    "class vehicle:\n",
    "    \n",
    "    def __init__(self,name_of_variable,max_speed,average_of_vehicle):\n",
    "        self.name_of_variable = name_of_variable\n",
    "        self.max_speed = max_speed\n",
    "        self.average_of_vehicle = average_of_vehicle\n",
    "    \n",
    "\n",
    "class car(vehicle):\n",
    "    \n",
    "    def seating_capacity(self,capacity):\n",
    "        \n",
    "        self.__capacity = capacity\n",
    "        \n",
    "        print(self.name_of_variable,self.__capacity)\n",
    "    \n",
    "    \n",
    "    \n"
   ]
  },
  {
   "cell_type": "code",
   "execution_count": 36,
   "id": "00f61d0b-d1b1-4d17-9cc0-42c5e91b6ec0",
   "metadata": {},
   "outputs": [],
   "source": [
    "obj_vehicle=car(\"VW\",20,10)"
   ]
  },
  {
   "cell_type": "code",
   "execution_count": 37,
   "id": "5ca072ee-1d48-4307-b47f-817bda554059",
   "metadata": {},
   "outputs": [
    {
     "name": "stdout",
     "output_type": "stream",
     "text": [
      "VW 4\n"
     ]
    }
   ],
   "source": [
    "obj_vehicle.seating_capacity(4)"
   ]
  },
  {
   "cell_type": "markdown",
   "id": "e763523d-9266-413f-977c-2708cde40280",
   "metadata": {},
   "source": [
    "### Q3. What is multiple inheritance? Write a python code to demonstrate multiple inheritance.\n"
   ]
  },
  {
   "cell_type": "markdown",
   "id": "8fb84d16-6850-494d-a7b6-99ad727b1e0f",
   "metadata": {},
   "source": [
    "-> multiple Inheritance, a subclass can have multiple superclasses."
   ]
  },
  {
   "cell_type": "code",
   "execution_count": 38,
   "id": "ef79f33b-9f20-4c31-871d-123b70b2aa2b",
   "metadata": {},
   "outputs": [
    {
     "name": "stdout",
     "output_type": "stream",
     "text": [
      "Child is a subclass of Parent1 and Parent2\n"
     ]
    }
   ],
   "source": [
    "class Parent1:\n",
    "   pass\n",
    "class Parent2:\n",
    "   pass\n",
    "class Child(Parent1, Parent2):\n",
    "   pass\n",
    "if issubclass(Child, (Parent1, Parent2)):\n",
    "   print(\"Child is a subclass of Parent1 and Parent2\")"
   ]
  },
  {
   "cell_type": "markdown",
   "id": "bbb61e85-dc6c-4b37-8b83-cdc8958536fb",
   "metadata": {},
   "source": [
    "### Q4. What are getter and setter in python? Create a class and create a getter and a setter method in this class."
   ]
  },
  {
   "cell_type": "markdown",
   "id": "3b7ccb58-b48d-4ae1-9b4c-697cc3a8fb09",
   "metadata": {},
   "source": [
    "Getter: A method that allows you to access an attribute in a given class."
   ]
  },
  {
   "cell_type": "code",
   "execution_count": null,
   "id": "94859f98-dc1c-41a5-9684-f8a57108a0fc",
   "metadata": {},
   "outputs": [],
   "source": []
  },
  {
   "cell_type": "markdown",
   "id": "a975c8eb-4ab1-4fa1-98cf-aecec1851863",
   "metadata": {},
   "source": [
    " Setter: A method that allows you to set or mutate the value of an attribute in a class"
   ]
  },
  {
   "cell_type": "code",
   "execution_count": null,
   "id": "61e55cb3-d0b5-4ff5-8a44-5a14030ca078",
   "metadata": {},
   "outputs": [],
   "source": []
  },
  {
   "cell_type": "markdown",
   "id": "b8b00ba7-f338-4c2e-bf0f-dbb78fa384ad",
   "metadata": {},
   "source": [
    "### Q5.What is method overriding in python? Write a python code to demonstrate method overriding."
   ]
  },
  {
   "cell_type": "markdown",
   "id": "81ac2d81-4b39-4d82-b94a-03a75541b8a1",
   "metadata": {},
   "source": [
    "-> When a child class method overrides(or, provides it's own implementation) the parent class method of the same name, parameters and return type, it is known as method overriding."
   ]
  },
  {
   "cell_type": "code",
   "execution_count": 41,
   "id": "821a2047-8957-4bff-8dfa-88aefdbb7ad5",
   "metadata": {},
   "outputs": [],
   "source": [
    "class pwskills:\n",
    "    \n",
    "    def __init__(self,name,email):\n",
    "        self.name = name\n",
    "        self.email = email\n",
    "        \n",
    "    @classmethod\n",
    "    def details(cls,name,email):\n",
    "        return cls(name,email)\n",
    "    \n",
    "    def full_details(self):\n",
    "        print(self.name,self.email)"
   ]
  },
  {
   "cell_type": "code",
   "execution_count": null,
   "id": "545ed145-bc37-40eb-b636-906c824b7928",
   "metadata": {},
   "outputs": [],
   "source": []
  }
 ],
 "metadata": {
  "kernelspec": {
   "display_name": "Python 3 (ipykernel)",
   "language": "python",
   "name": "python3"
  },
  "language_info": {
   "codemirror_mode": {
    "name": "ipython",
    "version": 3
   },
   "file_extension": ".py",
   "mimetype": "text/x-python",
   "name": "python",
   "nbconvert_exporter": "python",
   "pygments_lexer": "ipython3",
   "version": "3.10.8"
  }
 },
 "nbformat": 4,
 "nbformat_minor": 5
}

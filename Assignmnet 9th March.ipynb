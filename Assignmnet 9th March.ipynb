{
 "cells": [
  {
   "cell_type": "markdown",
   "id": "272e1a83-6788-428b-89e7-9954b98b9941",
   "metadata": {},
   "source": [
    " ### Q1: What are the Probability Mass Function (PMF) and Probability Density Function (PDF)? Explain with an example."
   ]
  },
  {
   "cell_type": "markdown",
   "id": "b143fafe-bd7e-4cd9-96ea-6ddf4d1c57a9",
   "metadata": {},
   "source": [
    "Probability mass functions (pmf) are used to describe discrete probability distributions. While probability density functions (pdf) are used to describe continuous probability distributions."
   ]
  },
  {
   "cell_type": "markdown",
   "id": "d6035ccb-b9a1-4cb9-9bf8-199b0677ff63",
   "metadata": {},
   "source": [
    "### Q2: What is Cumulative Density Function (CDF)? Explain with an example. Why CDF is used?"
   ]
  },
  {
   "cell_type": "markdown",
   "id": "91a7df1b-4725-455d-8dff-967bf7e0fc46",
   "metadata": {},
   "source": [
    "The cumulative distribution function (CDF) calculates the cumulative probability for a given x-value. Use the CDF to determine the likelihood that a random observation taken from the population will be less than or equal to a particular value."
   ]
  },
  {
   "cell_type": "markdown",
   "id": "f5ca02af-6526-4889-9dee-4d85910d1946",
   "metadata": {},
   "source": [
    "### Q3: What are some examples of situations where the normal distribution might be used as a model? Explain how the parameters of the normal distribution relate to the shape of the distribution."
   ]
  },
  {
   "cell_type": "markdown",
   "id": "722fd879-21f1-4aac-a581-d18b36333f43",
   "metadata": {},
   "source": [
    "All kinds of variables in natural and social sciences are normally or approximately normally distributed. Height, birth weight, reading ability, job satisfaction, or SAT scores are just a few examples of such variables."
   ]
  },
  {
   "cell_type": "markdown",
   "id": "01589ac5-66ab-4d2d-88dc-e6ee611d14d0",
   "metadata": {},
   "source": [
    "### Q4: Explain the importance of Normal Distribution. Give a few real-life examples of Normal Distribution."
   ]
  },
  {
   "cell_type": "markdown",
   "id": "9f6e6e65-6a47-468c-8a24-b5ddaf8031d0",
   "metadata": {},
   "source": [
    "Characteristics that are the sum of many independent processes frequently follow normal distributions. For example, heights, blood pressure, measurement error, and IQ scores follow the normal distribution."
   ]
  },
  {
   "cell_type": "markdown",
   "id": "f7742d56-71e6-40ec-b538-bf4fadc6776b",
   "metadata": {},
   "source": [
    "### Q5: What is Bernaulli Distribution? Give an Example. What is the difference between Bernoulli Distribution and Binomial Distribution?"
   ]
  },
  {
   "cell_type": "markdown",
   "id": "64c753f1-bcfd-4e21-ab6c-e685aef7187c",
   "metadata": {},
   "source": [
    "Bernoulli deals with the outcome of the single trial of the event, whereas Binomial deals with the outcome of the multiple trials of the single event. Bernoulli is used when the outcome of an event is required for only one time, whereas the Binomial is used when the outcome of an event is required multiple times."
   ]
  },
  {
   "cell_type": "markdown",
   "id": "e5edceb9-d605-4d9d-95ca-ffa6093b3790",
   "metadata": {},
   "source": [
    "### Q6. Consider a dataset with a mean of 50 and a standard deviation of 10. If we assume that the dataset is normally distributed, what is the probability that a randomly selected observation will be greater than 60? Use the appropriate formula and show your calculations."
   ]
  },
  {
   "cell_type": "markdown",
   "id": "6465d85b-a3b5-45b4-ae92-6abcf608f789",
   "metadata": {},
   "source": [
    "Mean =50\n",
    "SD=10\n",
    "\n",
    "Z-Score= (xi-mean)/sd\n",
    "\n",
    "Z-score = (60-50)/10=1\n",
    "\n",
    "p(x>60)=84.13%"
   ]
  },
  {
   "cell_type": "markdown",
   "id": "f94fae72-bb9a-4a0a-9ca1-58fd1954ad2d",
   "metadata": {},
   "source": [
    "### Q7: Explain uniform Distribution with an example."
   ]
  },
  {
   "cell_type": "markdown",
   "id": "6d8f1acd-ed31-4536-b874-52860cac7557",
   "metadata": {},
   "source": [
    "In statistics, uniform distribution refers to a type of probability distribution in which all outcomes are equally likely. A deck of cards has within it uniform distributions because the likelihood of drawing a heart, a club, a diamond, or a spade is equally likely."
   ]
  },
  {
   "cell_type": "markdown",
   "id": "c55eb31e-eb8b-41d8-bf22-c31e2e06d568",
   "metadata": {},
   "source": [
    "### Q8: What is the z score? State the importance of the z score."
   ]
  },
  {
   "cell_type": "markdown",
   "id": "824d9d30-0c79-44e1-9166-81cc08cba37b",
   "metadata": {},
   "source": [
    "A z-score is important because it tells where your data lies in the data distribution. For example, if a z-score is 1.5, it is 1.5 standard deviations away from the mean."
   ]
  },
  {
   "cell_type": "markdown",
   "id": "789a8a5c-4862-488b-84e9-b4548788fdd7",
   "metadata": {},
   "source": [
    "### Q9: What is Central Limit Theorem? State the significance of the Central Limit Theorem."
   ]
  },
  {
   "cell_type": "markdown",
   "id": "387d97f5-c48c-4931-abb9-2d0dd75bfbdc",
   "metadata": {},
   "source": [
    "The CLT is a statistical theory that states that - if you take a sufficiently large sample size from a population with a finite level of variance, the mean of all samples from that population will be roughly equal to the population mean."
   ]
  },
  {
   "cell_type": "markdown",
   "id": "05d4788a-7e05-4e7c-8e92-fe4f200e5603",
   "metadata": {},
   "source": [
    "### Q10: State the assumptions of the Central Limit Theorem."
   ]
  },
  {
   "cell_type": "code",
   "execution_count": null,
   "id": "e88fc53a-0ac4-4ee3-8f0b-2df835054731",
   "metadata": {},
   "outputs": [],
   "source": []
  }
 ],
 "metadata": {
  "kernelspec": {
   "display_name": "Python 3 (ipykernel)",
   "language": "python",
   "name": "python3"
  },
  "language_info": {
   "codemirror_mode": {
    "name": "ipython",
    "version": 3
   },
   "file_extension": ".py",
   "mimetype": "text/x-python",
   "name": "python",
   "nbconvert_exporter": "python",
   "pygments_lexer": "ipython3",
   "version": "3.10.8"
  }
 },
 "nbformat": 4,
 "nbformat_minor": 5
}

{
 "cells": [
  {
   "cell_type": "markdown",
   "id": "b116e4ef-9c05-49e7-bdc3-2981bcb22e02",
   "metadata": {},
   "source": [
    "### Q1: What is Estimation Statistics? Explain point estimate and interval estimate."
   ]
  },
  {
   "cell_type": "markdown",
   "id": "64b7d08b-eec5-4363-8d0b-937812806b5a",
   "metadata": {},
   "source": [
    "A point estimate is a single value estimate of a parameter. For instance, a sample mean is a point estimate of a population mean. An interval estimate gives you a range of values where the parameter is expected to lie. A confidence interval is the most common type of interval estimate."
   ]
  },
  {
   "cell_type": "markdown",
   "id": "10b4093d-d798-4a08-88b8-000810b5295b",
   "metadata": {},
   "source": [
    "### Q2. Write a Python function to estimate the population mean using a sample mean and standard deviation."
   ]
  },
  {
   "cell_type": "code",
   "execution_count": 8,
   "id": "298f323c-60bc-487c-b31b-75e26dbccd75",
   "metadata": {},
   "outputs": [],
   "source": [
    "from statistics import mean \n",
    "# # Calculate mean # mean(arr1), mean(arr2) # # Custom code in Python for calculating the mean # \n",
    "def mean(arr):\n",
    "    sum = 0\n",
    "    for i in range(len(arr)): \n",
    "        sum += arr[i]\n",
    "    return sum / len(arr)"
   ]
  },
  {
   "cell_type": "markdown",
   "id": "880bfa8e-8cfc-46b4-8d8c-5e113909d4e3",
   "metadata": {},
   "source": [
    "### Q3: What is Hypothesis testing? Why is it used? State the importance of Hypothesis testing."
   ]
  },
  {
   "cell_type": "markdown",
   "id": "f6d0a6cb-b516-47ac-939c-cb7093475afb",
   "metadata": {},
   "source": [
    "Hypothesis testing is the process used to evaluate the strength of evidence from the sample and provides a framework for making determinations related to the population"
   ]
  },
  {
   "cell_type": "markdown",
   "id": "5f9ca9db-37ad-45d9-a9d5-c3414844e1d5",
   "metadata": {},
   "source": [
    "### Q4. Create a hypothesis that states whether the average weight of male college students is greater than the average weight of female college students."
   ]
  },
  {
   "cell_type": "markdown",
   "id": "24b2c96c-f399-4312-a570-bb4f39eb83b8",
   "metadata": {},
   "source": [
    "Ho:Avg weight of male college students > Avg weight of female college students\n",
    "\n",
    "H1:Avg weight of male college students != Avg weight of female college students"
   ]
  },
  {
   "cell_type": "markdown",
   "id": "342a2f75-5a1c-4c2a-beeb-80148cfdc9b2",
   "metadata": {},
   "source": [
    "### Q5. Write a Python script to conduct a hypothesis test on the difference between two population means, given a sample from each population."
   ]
  },
  {
   "cell_type": "code",
   "execution_count": 11,
   "id": "54f658df-9992-4f04-8607-b7abe07c97ec",
   "metadata": {},
   "outputs": [
    {
     "data": {
      "text/plain": [
       "Ttest_indResult(statistic=-0.6337397070250238, pvalue=0.5300471010405257)"
      ]
     },
     "execution_count": 11,
     "metadata": {},
     "output_type": "execute_result"
    }
   ],
   "source": [
    "# Python program to demonstrate how to\n",
    "# perform two sample T-test\n",
    " \n",
    "# Import the library\n",
    "import scipy.stats as stats\n",
    " \n",
    "# Creating data groups\n",
    "data_group1 = np.array([14, 15, 15, 16, 13, 8, 14,\n",
    "                        17, 16, 14, 19, 20, 21, 15,\n",
    "                        15, 16, 16, 13, 14, 12])\n",
    " \n",
    "data_group2 = np.array([15, 17, 14, 17, 14, 8, 12,\n",
    "                        19, 19, 14, 17, 22, 24, 16,\n",
    "                        13, 16, 13, 18, 15, 13])\n",
    " \n",
    "# Perform the two sample t-test with equal variances\n",
    "stats.ttest_ind(a=data_group1, b=data_group2, equal_var=True)"
   ]
  },
  {
   "cell_type": "markdown",
   "id": "54e1ddeb-7299-4140-92b3-ee41d6691185",
   "metadata": {},
   "source": [
    "### Q6: What is a null and alternative hypothesis? Give some examples."
   ]
  },
  {
   "cell_type": "markdown",
   "id": "4803afc3-2922-4ef2-b042-16a40fe9653e",
   "metadata": {},
   "source": [
    "Null hypothesis represent the claim which is well-established or true justified belief. In addition to well-established beliefs, it represents the default state of the claim in the real world. For example, null hypothesis can be that a 1-KG packet of salt consists of 1 KG of salt. Another example is there is no relationship between pranayama and LDL cholesterol as stated in the previous section. Null hypothesis is typically denoted by H0.\n",
    "\n",
    "Alternate hypothesis represents the new claim that needs to be established. For example, a 1-KG packet of salt consists of 900 gm of salt. Or, there is an impact of pranayama on reducing LDL cholesterol. Alternate hypothesis is denoted by H1."
   ]
  },
  {
   "cell_type": "markdown",
   "id": "00952f12-8154-447e-9b2c-f5818d7b6427",
   "metadata": {},
   "source": [
    "### Q7: Write down the steps involved in hypothesis testing."
   ]
  },
  {
   "cell_type": "markdown",
   "id": "a2121bb3-7455-4b21-a0d3-7c5e8451c3ca",
   "metadata": {},
   "source": [
    "There are 5 main steps in hypothesis testing:\n",
    "\n",
    "State your research hypothesis as a null hypothesis and alternate hypothesis (Ho) and (Ha or H1).\n",
    "\n",
    "Collect data in a way designed to test the hypothesis.\n",
    "\n",
    "Perform an appropriate statistical test.\n",
    "\n",
    "Decide whether to reject or fail to reject your null hypothesis.\n",
    "\n",
    "Present the findings in your results and discussion section."
   ]
  },
  {
   "cell_type": "markdown",
   "id": "112bfbeb-e7cf-4394-a5a0-de0e40d793ff",
   "metadata": {},
   "source": [
    "### Q8. Define p-value and explain its significance in hypothesis testing."
   ]
  },
  {
   "cell_type": "markdown",
   "id": "76616793-5afe-4363-adb0-b2002bc4d628",
   "metadata": {},
   "source": [
    "The p value is a number, calculated from a statistical test, that describes how likely you are to have found a particular set of observations if the null hypothesis were true. P values are used in hypothesis testing to help decide whether to reject the null hypothesis."
   ]
  },
  {
   "cell_type": "markdown",
   "id": "1d768827-8d3f-4605-8c94-9b2d5c92dacc",
   "metadata": {},
   "source": [
    "### Q9. Generate a Student's t-distribution plot using Python's matplotlib library, with the degrees of freedom parameter set to 10."
   ]
  },
  {
   "cell_type": "code",
   "execution_count": 17,
   "id": "c3d5d824-88a5-4cbe-8ca8-186435d74f82",
   "metadata": {},
   "outputs": [
    {
     "data": {
      "image/png": "[encoded data removed]",
      "text/plain": [
       "<Figure size 640x480 with 1 Axes>"
      ]
     },
     "metadata": {},
     "output_type": "display_data"
    }
   ],
   "source": [
    "import numpy as np\n",
    "from scipy.stats import t\n",
    "from matplotlib import pyplot\n",
    "X = np.linspace (-4,4,200)\n",
    "Y= t.pdf(X,df=10)\n",
    "pyplot.plot(X,Y)\n",
    "#pyplot.savefig(\"t-dist-graph-10.png\")\n",
    "pyplot.show()"
   ]
  },
  {
   "cell_type": "markdown",
   "id": "2881f66b-9eb1-4ba0-9b5d-bdd06d4cec31",
   "metadata": {},
   "source": [
    "### Q10. Write a Python program to calculate the two-sample t-test for independent samples, given two random samples of equal size and a null hypothesis that the population means are equal."
   ]
  },
  {
   "cell_type": "code",
   "execution_count": 20,
   "id": "468ee0bb-82bf-43f4-8c04-46e903df3671",
   "metadata": {},
   "outputs": [
    {
     "data": {
      "text/plain": [
       "Ttest_indResult(statistic=-0.6337397070250238, pvalue=0.5300471010405257)"
      ]
     },
     "execution_count": 20,
     "metadata": {},
     "output_type": "execute_result"
    }
   ],
   "source": [
    "import numpy as np\n",
    "\n",
    "group1 = np.array([14, 15, 15, 16, 13, 8, 14, 17, 16, 14, 19, 20, 21, 15, 15, 16, 16, 13, 14, 12])\n",
    "group2 = np.array([15, 17, 14, 17, 14, 8, 12, 19, 19, 14, 17, 22, 24, 16, 13, 16, 13, 18, 15, 13])\n",
    "\n",
    "import scipy.stats as stats\n",
    "\n",
    "#perform two sample t-test with equal variances\n",
    "stats.ttest_ind(a=group1, b=group2, equal_var=True)\n"
   ]
  },
  {
   "cell_type": "markdown",
   "id": "b9c2e160-48b3-46a3-8283-ae8aeeb2c63d",
   "metadata": {},
   "source": [
    "### Q11: What is Student’s t distribution? When to use the t-Distribution."
   ]
  },
  {
   "cell_type": "markdown",
   "id": "e12f4e38-d58a-422e-9caf-d02d06f4d8f5",
   "metadata": {},
   "source": [
    "The t-distribution is used when data are approximately normally distributed, which means the data follow a bell shape but the population variance is unknown. The variance in a t-distribution is estimated based on the degrees of freedom of the data set (total number of observations minus 1)."
   ]
  },
  {
   "cell_type": "markdown",
   "id": "af090999-2d68-426a-a621-72cf9149e4ce",
   "metadata": {},
   "source": [
    "### Q12: What is t-statistic? State the formula for t-statistic."
   ]
  },
  {
   "cell_type": "markdown",
   "id": "6556039f-9030-429c-8b81-76162728f49d",
   "metadata": {},
   "source": [
    "In statistics, the t-statistic is the ratio of the departure of the estimated value of a parameter from its hypothesized value to its standard error. It is used in hypothesis testing via Student's t-test. The t-statistic is used in a t-test to determine whether to support or reject the null hypothesis."
   ]
  },
  {
   "cell_type": "markdown",
   "id": "84d1514b-19ce-41d5-983f-84ed93a4c1fd",
   "metadata": {},
   "source": [
    "### Q13. A coffee shop owner wants to estimate the average daily revenue for their shop. They take a random sample of 50 days and find the sample mean revenue to be $500  with a standard deviation of $50. Estimate the population mean revenue with a 95% confidence interval."
   ]
  },
  {
   "cell_type": "markdown",
   "id": "acaa876f-c4d8-4483-a095-dfa620280102",
   "metadata": {},
   "source": [
    "μ=?\n",
    "\n",
    "n=50 Days\n",
    "\n",
    "X̄ = $500\n",
    "\n",
    "S= $50\n",
    "\n",
    "Confidence Interval = 0.95\n",
    "\n",
    "Signficance  α = 1-0.95 = 0.05\n",
    "\n",
    "Degree of Freedom = 50 -1 = 49\n",
    "\n",
    "\n",
    "\n",
    "500 ± 2.0096 *  50/√ 50 = 500  ± 14\n",
    "\n",
    "95% Confidence interval for the population mean is ( 514,486)\n"
   ]
  },
  {
   "cell_type": "markdown",
   "id": "3a94bfa2-e282-409c-8a7d-fb9447d1cc8c",
   "metadata": {},
   "source": [
    "### Q14. A researcher hypothesizes that a new drug will decrease blood pressure by 10 mmHg. They conduct a clinical trial with 100 patients and find that the sample mean decrease in blood pressure is 8 mmHg with a standard deviation of 3 mmHg. Test the hypothesis with a significance level of 0.05."
   ]
  },
  {
   "cell_type": "markdown",
   "id": "bd7c2cd1-a877-4f10-b0ac-b7555e25a27e",
   "metadata": {},
   "source": [
    "Ho : μ < 10 mmHg\n",
    "\n",
    "H1 : μ != 10 mmHg (2 tailed test)\n",
    "\n",
    "μ = 10 , n = 100, X̄ = 8mmHg, α  = 0.05 Sample Standard Deviation (S) = 3mmHg\n",
    "\n",
    "Dof = 100-1 = 99 (± 1.9842)\n",
    "\n",
    "t = (X̄ - μ )/(S/√n)\n",
    "\n",
    "t = (8-10)/(3/√100) = -2/0.3 = -6.66\n",
    "\n",
    "t < -1.9842\n",
    "\n",
    "We Accept  null hypothesis\n",
    "\n",
    "Conclusion : New drug will decrease blood pressure by 10mmHg"
   ]
  },
  {
   "cell_type": "markdown",
   "id": "ed49b185-d759-4936-b542-6da735b4d44a",
   "metadata": {},
   "source": [
    "### Q15. An electronics company produces a certain type of product with a mean weight of 5 pounds and a standard deviation of 0.5 pounds. A random sample of 25 products is taken, and the sample mean weight is found to be 4.8 pounds. Test the hypothesis that the true mean weight of the products is less than 5 pounds with a significance level of 0.01."
   ]
  },
  {
   "cell_type": "markdown",
   "id": "2d7f8800-1a30-403f-8c2b-0d1431ceb662",
   "metadata": {},
   "source": [
    "μ = 5 Pounds, n = 25 , xi = 4.8 Pounds, α  = 0.01 Standard Deviation = 0.5 Pounds\n",
    "\n",
    "H0 : μ < 5 pounds\n",
    "\n",
    "H1 : μ  != 5pounds(2 tail test)\n",
    "\n",
    "Z= (4.8 - 5)/(0.5/√25)  = -0.2/0.1 = -2\n",
    "\n",
    "since -2  outside the critical region we reject the null hypothesis \n"
   ]
  },
  {
   "cell_type": "markdown",
   "id": "0cce1d08-aa8b-46a4-9428-523217818c2d",
   "metadata": {},
   "source": [
    "### Q16. Two groups of students are given different study materials to prepare for a test. The first group (n1 = 30) has a mean score of 80 with a standard deviation of 10, and the second group (n2 = 40) has a mean score of 75 with a standard deviation of 8. Test the hypothesis that the population means for the two groups are equal with a significance level of 0.01."
   ]
  },
  {
   "cell_type": "markdown",
   "id": "8bfe5e1c-1b1b-4cd7-8893-a233b6b4b265",
   "metadata": {},
   "source": [
    "(80-75)+/- 2.576√3.33+1.6\n",
    "5+/-2.576√4.93\n",
    "5+/-6\n",
    "\n",
    "99% population mean (11,-1)"
   ]
  },
  {
   "cell_type": "markdown",
   "id": "9e43340d-5ce1-4184-a220-bff69ec88da8",
   "metadata": {},
   "source": [
    "### Q17. A marketing company wants to estimate the average number of ads watched by viewers during a TV program. They take a random sample of 50 viewers and find that the sample mean is 4 with a standard deviation of 1.5. Estimate the population mean with a 99% confidence interval."
   ]
  },
  {
   "cell_type": "markdown",
   "id": "1d243dc4-2bc0-4644-a11b-08523ae8e3a6",
   "metadata": {},
   "source": [
    "μ=?\n",
    "\n",
    "n=50\n",
    "\n",
    "X̄ = 4\n",
    "\n",
    "S= 1.5\n",
    "\n",
    "Confidence Interval = 0.99\n",
    "\n",
    "Signficance α = 1-0.99 = 0.01\n",
    "\n",
    "Degree of Freedom = 50 -1 = 49\n",
    "\n",
    "500 ± 2.0096 * 50/√ 50 = 500 ± 14\n",
    "\n",
    "95% Confidence interval for the population mean is ( 514,486)"
   ]
  }
 ],
 "metadata": {
  "kernelspec": {
   "display_name": "Python 3 (ipykernel)",
   "language": "python",
   "name": "python3"
  },
  "language_info": {
   "codemirror_mode": {
    "name": "ipython",
    "version": 3
   },
   "file_extension": ".py",
   "mimetype": "text/x-python",
   "name": "python",
   "nbconvert_exporter": "python",
   "pygments_lexer": "ipython3",
   "version": "3.10.8"
  }
 },
 "nbformat": 4,
 "nbformat_minor": 5
}

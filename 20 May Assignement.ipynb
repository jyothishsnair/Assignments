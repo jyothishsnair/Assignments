{
 "cells": [
  {
   "cell_type": "markdown",
   "id": "216a2f26-ff6a-4ef0-a847-8c84c56eee22",
   "metadata": {},
   "source": [
    "### 20 May\n",
    "\n",
    "\n",
    "#### Python Basic - 1"
   ]
  },
  {
   "cell_type": "markdown",
   "id": "21a71fa4-0cc7-4abd-96bc-66e8257b7ff5",
   "metadata": {},
   "source": [
    "Q.1. What are keywords in python? Using the keyword library, print all the python keywords."
   ]
  },
  {
   "cell_type": "markdown",
   "id": "097ab65a-297f-4f2c-afac-15793585f51a",
   "metadata": {},
   "source": [
    "Keywords are reserved words which are immutable and case sensitive."
   ]
  },
  {
   "cell_type": "code",
   "execution_count": 1,
   "id": "e2b59739-053d-436d-b659-1fd1e5979f06",
   "metadata": {},
   "outputs": [
    {
     "name": "stdout",
     "output_type": "stream",
     "text": [
      "['False', 'None', 'True', 'and', 'as', 'assert', 'async', 'await', 'break', 'class', 'continue', 'def', 'del', 'elif', 'else', 'except', 'finally', 'for', 'from', 'global', 'if', 'import', 'in', 'is', 'lambda', 'nonlocal', 'not', 'or', 'pass', 'raise', 'return', 'try', 'while', 'with', 'yield']\n"
     ]
    }
   ],
   "source": [
    "import keyword\n",
    "print(keyword.kwlist)"
   ]
  },
  {
   "cell_type": "markdown",
   "id": "12e195a4-9ea3-4805-aa84-eabcc476ad78",
   "metadata": {},
   "source": [
    "Q.2. What are the rules to create variables in python?"
   ]
  },
  {
   "cell_type": "markdown",
   "id": "7f8caaa2-6baa-4766-840f-f4848c71c24e",
   "metadata": {},
   "source": [
    "A variable name must start with a letter or the underscore character.\n",
    "\n",
    "A variable name cannot start with a number.\n",
    "\n",
    "A variable name can only contain alpha-numeric characters and underscores (A-z, 0-9, and _ )\n",
    "\n",
    "Variable names are case-sensitive (age, Age and AGE are three different variables)"
   ]
  },
  {
   "cell_type": "markdown",
   "id": "6bc6815c-aea8-4768-adfd-0b0112ee4d5c",
   "metadata": {},
   "source": [
    "Q.3. What are the standards and conventions followed for the nomenclature of variables in\n",
    "python to improve code readability and maintainability?"
   ]
  },
  {
   "cell_type": "markdown",
   "id": "0ce13b61-6d8d-4cb8-b254-cc44eddbaa09",
   "metadata": {},
   "source": [
    "Coding conventions are suggestions designed to help you write Python and RhinoScript code. Coding conventions can include the following:\n",
    "\n",
    "Naming conventions for objects, variables, and procedures\n",
    "\n",
    "Commenting conventions\n",
    "\n",
    "Code Block syntax\n",
    "\n",
    "Whitespace (spaces vs tabs)"
   ]
  },
  {
   "cell_type": "markdown",
   "id": "6f640093-d1a3-4136-babd-9ea61ef7d1da",
   "metadata": {},
   "source": [
    "Q.4. What will happen if a keyword is used as a variable name?"
   ]
  },
  {
   "cell_type": "markdown",
   "id": "4be0409d-d93f-44d4-b0c0-263cd7249f80",
   "metadata": {},
   "source": [
    "Keywords define the language's syntax rules and structure, and they cannot be used as variable names. Programmers generally choose names for their variables that are meaningful to the human readers of the program to remember what the variable is used for."
   ]
  },
  {
   "cell_type": "markdown",
   "id": "1b594ff2-eb48-4080-bfb3-93a6fb9847d1",
   "metadata": {},
   "source": [
    "Q.5. For what purpose def keyword is used?"
   ]
  },
  {
   "cell_type": "markdown",
   "id": "c84bb404-61ec-481d-a363-cfb6717b62de",
   "metadata": {},
   "source": [
    "The def keyword is used to create, (or define) a function."
   ]
  },
  {
   "cell_type": "markdown",
   "id": "910f1b60-0292-4495-b331-839fb5a2e804",
   "metadata": {},
   "source": [
    "Q.6. What is the operation of this special character ‘\\’?"
   ]
  },
  {
   "cell_type": "markdown",
   "id": "66030b18-7138-4182-8a3a-a201b3872201",
   "metadata": {},
   "source": [
    "Q.7. Give an example of the following conditions:\n",
    "    \n",
    "(i) Homogeneous list\n",
    "\n",
    "(ii) Heterogeneous set\n",
    "\n",
    "(iii) Homogeneous tuple"
   ]
  },
  {
   "cell_type": "markdown",
   "id": "0dc8af48-a0c5-49c3-8c1c-33db0be642cd",
   "metadata": {},
   "source": [
    "A homogeneous list is where the elements are restricted to a specific type such as a list of Person objects, a list of String objects, a list of Book objects, and so forth."
   ]
  },
  {
   "cell_type": "markdown",
   "id": "2a827885-5f80-47f4-9810-f0492c7f17ad",
   "metadata": {},
   "source": [
    "Heterogeneous set a combination of a mixture of features, some are numerical, and some are categorical at least"
   ]
  },
  {
   "cell_type": "markdown",
   "id": "07425e82-9f36-4184-8919-61d2f1a1d0c1",
   "metadata": {},
   "source": [
    "Lists are mutable, and their elements are usually homogeneous and are accessed by iterating over the list."
   ]
  },
  {
   "cell_type": "markdown",
   "id": "f48de71b-b9fe-4e66-a631-e24be60b7b7f",
   "metadata": {},
   "source": [
    "Q.8. Explain the mutable and immutable data types with proper explanation & examples."
   ]
  },
  {
   "cell_type": "markdown",
   "id": "cb305a7b-0061-4c26-896a-0f46381f0b4a",
   "metadata": {},
   "source": [
    "An object that allows you to change its values without changing its identity is a mutable object. The changes that you can perform on a mutable object's value are known as mutations. In contrast, an object that doesn't allow changes in its value is an immutable object."
   ]
  },
  {
   "cell_type": "markdown",
   "id": "3c3f69fa-ebd6-469c-8c18-f7db0e99eca1",
   "metadata": {},
   "source": [
    "Q.9. Write a code to create the given structure using only for loop."
   ]
  },
  {
   "cell_type": "code",
   "execution_count": 3,
   "id": "80a9b1eb-8a99-488a-a7ab-aea154e3e21b",
   "metadata": {},
   "outputs": [
    {
     "name": "stdin",
     "output_type": "stream",
     "text": [
      "Enter the Number 10\n"
     ]
    },
    {
     "name": "stdout",
     "output_type": "stream",
     "text": [
      "*\n",
      "***\n",
      "*****\n",
      "*******\n",
      "*********\n"
     ]
    }
   ],
   "source": [
    "Num = int(input(\"Enter the Number\"))\n",
    "\n",
    "for i in range(1,Num+1,2):\n",
    "    print(\"*\"*i)"
   ]
  },
  {
   "cell_type": "markdown",
   "id": "e35a869b-8fc6-417c-98df-5bf04f34bdc1",
   "metadata": {},
   "source": [
    "Q.10. Write a code to create the given structure using while loop."
   ]
  },
  {
   "cell_type": "code",
   "execution_count": 1,
   "id": "f2897c41-8df6-4ac0-a608-a6bbb9c2f28b",
   "metadata": {},
   "outputs": [
    {
     "name": "stdin",
     "output_type": "stream",
     "text": [
      "Enter the Number 9\n"
     ]
    },
    {
     "name": "stdout",
     "output_type": "stream",
     "text": [
      " | | | | | | | | |\n",
      " | | | | | | |\n",
      " | | | | |\n",
      " | | |\n",
      " |\n"
     ]
    }
   ],
   "source": [
    "Num = int(input(\"Enter the Number\"))\n",
    "\n",
    "while Num >=1:\n",
    "    print(\" |\"*Num)\n",
    "    Num = Num-2"
   ]
  },
  {
   "cell_type": "code",
   "execution_count": null,
   "id": "6c44f2d7-afdb-46cc-9b52-b90215767763",
   "metadata": {},
   "outputs": [],
   "source": []
  },
  {
   "cell_type": "code",
   "execution_count": null,
   "id": "f4f52a4d-1002-4573-bef6-ff3c7e826b33",
   "metadata": {},
   "outputs": [],
   "source": []
  }
 ],
 "metadata": {
  "kernelspec": {
   "display_name": "Python 3 (ipykernel)",
   "language": "python",
   "name": "python3"
  },
  "language_info": {
   "codemirror_mode": {
    "name": "ipython",
    "version": 3
   },
   "file_extension": ".py",
   "mimetype": "text/x-python",
   "name": "python",
   "nbconvert_exporter": "python",
   "pygments_lexer": "ipython3",
   "version": "3.10.8"
  }
 },
 "nbformat": 4,
 "nbformat_minor": 5
}

{
 "cells": [
  {
   "cell_type": "markdown",
   "id": "9d8bc0e4-2d33-4ebb-b20f-734172318a02",
   "metadata": {},
   "source": [
    "1.What are the two values of the Boolean data type? How do you write them?"
   ]
  },
  {
   "cell_type": "markdown",
   "id": "844128b1-4828-4dc4-b346-a6d0e336d2f9",
   "metadata": {},
   "source": [
    "The two values of the Boolean data type are 0 and 1 .They represented as TRUE or FALSE"
   ]
  },
  {
   "cell_type": "markdown",
   "id": "80404acb-ff27-452d-8e6d-64af368de4fe",
   "metadata": {},
   "source": [
    "2. What are the three different types of Boolean operators?"
   ]
  },
  {
   "cell_type": "markdown",
   "id": "0aaccc78-f405-4387-b1b5-35ea9e5aeed3",
   "metadata": {},
   "source": [
    "The three basic boolean operators are: AND, OR, and NOT."
   ]
  },
  {
   "cell_type": "markdown",
   "id": "77d969f8-d25d-4a58-a1aa-625d0dcabdba",
   "metadata": {},
   "source": [
    "4. What are the values of the following expressions?\n",
    "\n"
   ]
  },
  {
   "cell_type": "code",
   "execution_count": 1,
   "id": "bbda0b32-3592-42da-80c4-bb16e4aac1fc",
   "metadata": {},
   "outputs": [
    {
     "name": "stdout",
     "output_type": "stream",
     "text": [
      "False\n",
      "False\n",
      "True\n",
      "False\n",
      "False\n",
      "True\n"
     ]
    }
   ],
   "source": [
    "print((5 > 4) and (3 == 5))\n",
    "\n",
    "print(not (5 > 4))\n",
    "\n",
    "print((5 > 4) or (3 == 5))\n",
    "\n",
    "print(not ((5 > 4) or (3 == 5)))\n",
    "\n",
    "print((True and True) and (True == False))\n",
    "\n",
    "print((not False) or (not True))\n"
   ]
  },
  {
   "cell_type": "markdown",
   "id": "bc43faf9-5413-4130-983c-c7c2d1741785",
   "metadata": {},
   "source": [
    "5. What are the six comparison operators?"
   ]
  },
  {
   "cell_type": "markdown",
   "id": "640ad61d-eae3-4dd7-b373-7729140bfe47",
   "metadata": {},
   "source": [
    "We have six of these, including and limited to- less than, greater than, less than or equal to, greater than or equal to, equal to, and not equal to."
   ]
  },
  {
   "cell_type": "markdown",
   "id": "75d1a1cd-2ab1-4e4f-b74e-7a8f42487095",
   "metadata": {},
   "source": [
    "6. How do you tell the difference between the equal to and assignment operators?Describe a condition and when you would use one."
   ]
  },
  {
   "cell_type": "markdown",
   "id": "b4501b9e-7fcf-488f-8cb8-624af92f5f4c",
   "metadata": {},
   "source": [
    "In mathematics and algebra, = is an equal to operator. In programming = is an assignment operator, which means that it assigns a value to a variable. It may look like the assignment operator works the same way as algebra's equal to operator, but that's not the case."
   ]
  },
  {
   "cell_type": "markdown",
   "id": "56468889-65d6-4940-a1e1-64cb83f9b8b3",
   "metadata": {},
   "source": [
    "7. Identify the three blocks in this code:\n"
   ]
  },
  {
   "cell_type": "code",
   "execution_count": 2,
   "id": "963d6ec2-52b5-4248-b2aa-08231f13e40c",
   "metadata": {},
   "outputs": [
    {
     "name": "stdout",
     "output_type": "stream",
     "text": [
      "ham\n",
      "spam\n",
      "spam\n"
     ]
    }
   ],
   "source": [
    "spam = 0\n",
    "if spam == 10:\n",
    "    print('eggs')\n",
    "if spam > 5:\n",
    "    print('bacon')\n",
    "else:\n",
    "    print('ham')\n",
    "print('spam')\n",
    "print('spam')"
   ]
  },
  {
   "cell_type": "markdown",
   "id": "a3c0c360-6e89-4e26-8f5c-d1086503da86",
   "metadata": {},
   "source": [
    "8. Write code that prints Hello if 1 is stored in spam, prints Howdy if 2 is stored in spam, and prints Greetings! if anything else is stored in spam."
   ]
  },
  {
   "cell_type": "code",
   "execution_count": 4,
   "id": "52eb7c78-3869-484a-a704-a48e9ca79a1c",
   "metadata": {},
   "outputs": [
    {
     "name": "stdin",
     "output_type": "stream",
     "text": [
      "Enter the number 2\n"
     ]
    },
    {
     "name": "stdout",
     "output_type": "stream",
     "text": [
      "Howdy\n"
     ]
    }
   ],
   "source": [
    "spam = int(input(\"Enter the number\"))\n",
    "\n",
    "if spam == 1:\n",
    "    print(\"Hello\")\n",
    "elif spam == 2:\n",
    "    print(\"Howdy\")\n",
    "else:\n",
    "    print(\"Greetings!\")"
   ]
  },
  {
   "cell_type": "code",
   "execution_count": 5,
   "id": "552f98e5-20d9-4bb6-99e9-bbf6cd286428",
   "metadata": {},
   "outputs": [
    {
     "name": "stdin",
     "output_type": "stream",
     "text": [
      "Enter the number 1\n"
     ]
    },
    {
     "name": "stdout",
     "output_type": "stream",
     "text": [
      "Hello\n"
     ]
    }
   ],
   "source": [
    "spam = int(input(\"Enter the number\"))\n",
    "\n",
    "if spam == 1:\n",
    "    print(\"Hello\")\n",
    "elif spam == 2:\n",
    "    print(\"Howdy\")\n",
    "else:\n",
    "    print(\"Greetings!\")"
   ]
  },
  {
   "cell_type": "code",
   "execution_count": 6,
   "id": "2ed801e4-7231-4050-8108-6a619fb99f91",
   "metadata": {},
   "outputs": [
    {
     "name": "stdin",
     "output_type": "stream",
     "text": [
      "Enter the number 3\n"
     ]
    },
    {
     "name": "stdout",
     "output_type": "stream",
     "text": [
      "Greetings!\n"
     ]
    }
   ],
   "source": [
    "spam = int(input(\"Enter the number\"))\n",
    "\n",
    "if spam == 1:\n",
    "    print(\"Hello\")\n",
    "elif spam == 2:\n",
    "    print(\"Howdy\")\n",
    "else:\n",
    "    print(\"Greetings!\")"
   ]
  },
  {
   "cell_type": "markdown",
   "id": "e6712793-c344-4640-a85a-ac9bb5f89c7e",
   "metadata": {},
   "source": [
    "9.If your programme is stuck in an endless loop, what keys you’ll press?"
   ]
  },
  {
   "cell_type": "markdown",
   "id": "958ea876-134c-4e12-8c05-83b9dd3ccdee",
   "metadata": {},
   "source": [
    "In order to come out of the infinite loop, we can use the break statement."
   ]
  },
  {
   "cell_type": "markdown",
   "id": "5daaba7f-133d-4119-a978-eba709ed4035",
   "metadata": {},
   "source": [
    "10. How can you tell the difference between break and continue?"
   ]
  },
  {
   "cell_type": "markdown",
   "id": "f6024c7e-55da-4899-b4ec-427732793c70",
   "metadata": {},
   "source": [
    "A break statement in Python alters the flow of a loop by terminating it once a specified condition is met. Continue: The continue statement in Python is used to skip the remaining code inside a loop for the current iteration only."
   ]
  },
  {
   "cell_type": "markdown",
   "id": "1e43ad7e-a44b-43e2-92c6-6352d248d2b6",
   "metadata": {},
   "source": [
    "11. In a for loop, what is the difference between range(10), range(0, 10), and range(0, 10, 1)?"
   ]
  },
  {
   "cell_type": "markdown",
   "id": "d1aa9737-6f8d-4cb5-9783-16eea7715882",
   "metadata": {},
   "source": [
    "range(10) returns an object that prints as range(0, 10) (since it shows the starting value when it prints) and whose elements are the integers from 0 to 9, so [range(10)] gives the one-element list [range(0, 10)] and list(range(10)) gives the 10-element list [0, 1, 2, 3, 4, 5, 6, 7, 8, 9] ."
   ]
  },
  {
   "cell_type": "markdown",
   "id": "feb0b316-fdfe-433f-8ca7-441d7b16f936",
   "metadata": {},
   "source": [
    "12. Write a short program that prints the numbers 1 to 10 using a for loop. Then write an equivalent program that prints the numbers 1 to 10 using a while loop."
   ]
  },
  {
   "cell_type": "code",
   "execution_count": 7,
   "id": "164d7539-8d8d-4b5e-a18c-4a0deebc30eb",
   "metadata": {},
   "outputs": [
    {
     "name": "stdout",
     "output_type": "stream",
     "text": [
      "1\n",
      "2\n",
      "3\n",
      "4\n",
      "5\n",
      "6\n",
      "7\n",
      "8\n",
      "9\n",
      "10\n"
     ]
    }
   ],
   "source": [
    "for i in range(1,11):\n",
    "    print(i)"
   ]
  },
  {
   "cell_type": "code",
   "execution_count": 8,
   "id": "18083cd0-e3c4-46cb-a28c-126afc958d37",
   "metadata": {},
   "outputs": [
    {
     "name": "stdout",
     "output_type": "stream",
     "text": [
      "1\n",
      "2\n",
      "3\n",
      "4\n",
      "5\n",
      "6\n",
      "7\n",
      "8\n",
      "9\n",
      "10\n"
     ]
    }
   ],
   "source": [
    "i=1\n",
    "while i <= 10:\n",
    "    print(i)\n",
    "    i=i+1"
   ]
  },
  {
   "cell_type": "code",
   "execution_count": null,
   "id": "c085e503-04f1-4c89-b502-3ed05dd8c21a",
   "metadata": {},
   "outputs": [],
   "source": []
  }
 ],
 "metadata": {
  "kernelspec": {
   "display_name": "Python 3 (ipykernel)",
   "language": "python",
   "name": "python3"
  },
  "language_info": {
   "codemirror_mode": {
    "name": "ipython",
    "version": 3
   },
   "file_extension": ".py",
   "mimetype": "text/x-python",
   "name": "python",
   "nbconvert_exporter": "python",
   "pygments_lexer": "ipython3",
   "version": "3.10.8"
  }
 },
 "nbformat": 4,
 "nbformat_minor": 5
}

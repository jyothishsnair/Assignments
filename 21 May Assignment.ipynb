{
 "cells": [
  {
   "cell_type": "markdown",
   "id": "42b2e9f6-b978-4e73-a130-c5e038053699",
   "metadata": {},
   "source": [
    "Q.1. Create two int type variables, apply addition, subtraction, division and multiplications\n",
    "and store the results in variables. Then print the data in the following format by calling the\n",
    "variables:\n",
    "    \n",
    "First variable is __ & second variable is __.\n",
    "\n",
    "Addition: __ + __ = __\n",
    "\n",
    "Subtraction: __ - __ = __\n",
    "\n",
    "Multiplication: __ * __ = __\n",
    "\n",
    "Division: __ / __ = __\n"
   ]
  },
  {
   "cell_type": "code",
   "execution_count": 3,
   "id": "ba44cbab-f22e-48ae-9eef-381eabc5c303",
   "metadata": {},
   "outputs": [
    {
     "name": "stdin",
     "output_type": "stream",
     "text": [
      "Enter the 1st Number: 56\n",
      "Enter the 2nd Number: 67\n"
     ]
    },
    {
     "name": "stdout",
     "output_type": "stream",
     "text": [
      "First variable is 56 & Second variable is 67\n",
      "Addition:56+67=123\n",
      "Subtraction:56-67=-11\n",
      "Multiplication:56*67=3752\n",
      "Division:56/67=0.835820895522388\n"
     ]
    }
   ],
   "source": [
    "V1 = int(input(\"Enter the 1st Number:\"))\n",
    "V2 = int(input(\"Enter the 2nd Number:\"))\n",
    "\n",
    "print(f\"First variable is {V1} & Second variable is {V2}\")\n",
    "print(f\"Addition:{V1}+{V2}={V1+V2}\")\n",
    "print(f\"Subtraction:{V1}-{V2}={V1-V2}\")\n",
    "print(f\"Multiplication:{V1}*{V2}={V1*V2}\")\n",
    "print(f\"Division:{V1}/{V2}={V1/V2}\")"
   ]
  },
  {
   "cell_type": "markdown",
   "id": "8afc00a5-43df-48ea-a3a5-408a3fcb8b3a",
   "metadata": {},
   "source": [
    "Q.2. What is the difference between the following operators:\n",
    "\n",
    "(i) ‘/’ & ‘//’\n",
    "\n",
    "(ii) ‘**’ & ‘^’"
   ]
  },
  {
   "cell_type": "markdown",
   "id": "906d6a83-c9f7-4630-9fca-f8f2bf666182",
   "metadata": {},
   "source": [
    "i) Float Division(\"/\"): Divides left hand operand by right hand operand.\n",
    "\n",
    "x/y = Float(x/y)\n",
    "\n",
    "Floor Division(\"//\"): The division of operand where the result is the quotient in which the digit after the decimal point are removed.But if one of the operands is negative the result  is floored  i.e rounded away from zero.\n"
   ]
  },
  {
   "cell_type": "markdown",
   "id": "085210be-edf8-464c-ba3d-6763f93f5585",
   "metadata": {},
   "source": [
    "ii) ^ Bitwise XOR : Result bit 1, if any of the operand bit is 1 but not both otherwise result bit 0.\n",
    "\n",
    "** Power: Return first raised to power second."
   ]
  },
  {
   "cell_type": "markdown",
   "id": "b2e6960b-38b3-4baa-9094-a782ddacf59e",
   "metadata": {},
   "source": [
    "Q.3. List the logical operators"
   ]
  },
  {
   "cell_type": "markdown",
   "id": "ba0c8cb0-7a39-444e-8589-cdd79762929e",
   "metadata": {},
   "source": [
    "AND: True if both the operands are true."
   ]
  },
  {
   "cell_type": "code",
   "execution_count": 9,
   "id": "fa2e8128-5604-4034-b6d9-bc14c6c8240d",
   "metadata": {},
   "outputs": [
    {
     "name": "stdout",
     "output_type": "stream",
     "text": [
      "True\n",
      "False\n"
     ]
    }
   ],
   "source": [
    "a=10\n",
    "b=10\n",
    "print((a==10)  and (b==10))\n",
    "print((a==10)  and (b==11))"
   ]
  },
  {
   "cell_type": "markdown",
   "id": "625731c7-16c1-4513-b13c-1dce662dc7ed",
   "metadata": {},
   "source": [
    "OR : True if either of the operands is true."
   ]
  },
  {
   "cell_type": "code",
   "execution_count": 11,
   "id": "54360705-3867-4684-bfb3-75ca68523448",
   "metadata": {},
   "outputs": [
    {
     "name": "stdout",
     "output_type": "stream",
     "text": [
      "True\n",
      "False\n",
      "True\n"
     ]
    }
   ],
   "source": [
    "a=10\n",
    "b=30\n",
    "print((a==10) or (b==10))\n",
    "print((a==11) or (b==11))\n",
    "print((a==11) or (b==30))"
   ]
  },
  {
   "cell_type": "markdown",
   "id": "b7cf2ae8-9586-4234-b343-a9b58b4b1cdc",
   "metadata": {},
   "source": [
    "NOT : True if operand is false.\n"
   ]
  },
  {
   "cell_type": "code",
   "execution_count": 12,
   "id": "fbf5b259-d836-450e-93a9-c112485c0139",
   "metadata": {},
   "outputs": [
    {
     "name": "stdout",
     "output_type": "stream",
     "text": [
      "False\n",
      "True\n"
     ]
    }
   ],
   "source": [
    "a=10\n",
    "b=10\n",
    "print(not((a==10)  and (b==10)))\n",
    "print(not((a==10)  and (b==11)))"
   ]
  },
  {
   "cell_type": "markdown",
   "id": "d8c55b71-d510-4dc9-8a11-fa6309789e04",
   "metadata": {},
   "source": [
    "Q.4. Explain right shift operator and left shift operator with examples."
   ]
  },
  {
   "cell_type": "markdown",
   "id": "7d4ac0fe-a093-4018-b1d4-59bb9f9adb46",
   "metadata": {},
   "source": [
    "Right Shift Operator: Shift the bit of the number to the right and fills o on void left(fill 1 in the case of a negative number ) as a result."
   ]
  },
  {
   "cell_type": "code",
   "execution_count": 22,
   "id": "e87a5a86-3851-4b36-b185-5f7de9d57fb7",
   "metadata": {},
   "outputs": [
    {
     "name": "stdout",
     "output_type": "stream",
     "text": [
      "Positive Number:\n",
      "a:10 0b1010\n",
      "a:5 0b101\n",
      "Negative Number:\n",
      "a:-10 -0b1010\n",
      "a:-5 -0b101\n"
     ]
    }
   ],
   "source": [
    "print(\"Positive Number:\")\n",
    "a=10\n",
    "print(f\"a:{a}\",bin(a))\n",
    "a>>1\n",
    "print(f\"a:{a>>1}\",bin(a>>1))\n",
    "\n",
    "print(\"Negative Number:\")\n",
    "a=-10\n",
    "print(f\"a:{a}\",bin(a))\n",
    "a>>1\n",
    "print(f\"a:{a>>1}\",bin(a>>1))"
   ]
  },
  {
   "cell_type": "markdown",
   "id": "98dd4186-355c-4dc2-89ca-e7c5651ad386",
   "metadata": {},
   "source": [
    "Left Shift Number: Shift the bit of the number to the left and fills 0 on the void right as a result."
   ]
  },
  {
   "cell_type": "code",
   "execution_count": 23,
   "id": "84b0add2-bb47-4103-b33b-cb0aabaab528",
   "metadata": {},
   "outputs": [
    {
     "name": "stdout",
     "output_type": "stream",
     "text": [
      "Positive Number:\n",
      "a:10 0b1010\n",
      "a:20 0b10100\n",
      "Negative Number:\n",
      "a:-10 -0b1010\n",
      "a:-20 -0b10100\n"
     ]
    }
   ],
   "source": [
    "print(\"Positive Number:\")\n",
    "a=10\n",
    "print(f\"a:{a}\",bin(a))\n",
    "a<<1\n",
    "print(f\"a:{a<<1}\",bin(a<<1))\n",
    "\n",
    "print(\"Negative Number:\")\n",
    "a=-10\n",
    "print(f\"a:{a}\",bin(a))\n",
    "a<<1\n",
    "print(f\"a:{a<<1}\",bin(a<<1))"
   ]
  },
  {
   "cell_type": "markdown",
   "id": "03683683-1a6f-4f5a-8c36-f668ce863c1c",
   "metadata": {},
   "source": [
    "Q.5. Create a list containing int type data of length 15. Then write a code to check if 10 is\n",
    "present in the list or not."
   ]
  },
  {
   "cell_type": "code",
   "execution_count": 30,
   "id": "614cc880-077c-498a-9fbb-7c81d33cc643",
   "metadata": {},
   "outputs": [
    {
     "name": "stdin",
     "output_type": "stream",
     "text": [
      "Enter the number: 15\n"
     ]
    },
    {
     "name": "stdout",
     "output_type": "stream",
     "text": [
      "True\n"
     ]
    }
   ],
   "source": [
    "Length_of_Data = int(input(\"Enter the number:\"))\n",
    "L= list(range(Length_of_Data))\n",
    "\n",
    "for i in range(len(L)):\n",
    "    if L[i] == 10:\n",
    "        print(\"True\")"
   ]
  },
  {
   "cell_type": "code",
   "execution_count": null,
   "id": "18ed4fb2-95f3-4ad7-b1d9-e348e3d7ba7a",
   "metadata": {},
   "outputs": [],
   "source": []
  }
 ],
 "metadata": {
  "kernelspec": {
   "display_name": "Python 3 (ipykernel)",
   "language": "python",
   "name": "python3"
  },
  "language_info": {
   "codemirror_mode": {
    "name": "ipython",
    "version": 3
   },
   "file_extension": ".py",
   "mimetype": "text/x-python",
   "name": "python",
   "nbconvert_exporter": "python",
   "pygments_lexer": "ipython3",
   "version": "3.10.8"
  }
 },
 "nbformat": 4,
 "nbformat_minor": 5
}

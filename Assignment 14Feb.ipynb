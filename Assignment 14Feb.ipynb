{
 "cells": [
  {
   "cell_type": "markdown",
   "id": "88ac1085-86f0-4607-892f-5d494fc7aadc",
   "metadata": {},
   "source": [
    "### What is multithreading in python? hy is it used? Name the module used to handle threads in python"
   ]
  },
  {
   "cell_type": "markdown",
   "id": "1e240f47-de48-44db-8973-d4d305e1f67d",
   "metadata": {},
   "source": [
    "Multithreading is a threading technique in Python programming to run multiple threads concurrently by rapidly switching between threads with a CPU help (called context switching)."
   ]
  },
  {
   "cell_type": "markdown",
   "id": "35610a98-a61d-4a5c-8cac-d685b2e029d5",
   "metadata": {},
   "source": [
    "There are two main modules of multithreading used to handle threads in Python.\n",
    "\n",
    "The thread module\n",
    "The threading module\n",
    "\n",
    "Thread modules\n",
    "\n",
    "It is started with Python 3, designated as obsolete, and can only be accessed with _thread that supports backward compatibility."
   ]
  },
  {
   "cell_type": "markdown",
   "id": "e3753cba-7779-4c0d-8eba-23d9339497af",
   "metadata": {},
   "source": [
    "Threading Modules\n",
    "\n",
    "\n",
    "The threading module is a high-level implementation of multithreading used to deploy an application in Python. To use multithreading, we need to import the threading module in Python Program."
   ]
  },
  {
   "cell_type": "markdown",
   "id": "526a2559-a988-4757-afd0-3aeafbea7bdd",
   "metadata": {},
   "source": [
    "### Why threading module used? Write the use of the following functions\n",
    "\n",
    "activeCount()\n",
    "\n",
    "currentThread()\n",
    "\n",
    "enumerate()"
   ]
  },
  {
   "cell_type": "markdown",
   "id": "2fda0d09-b5b0-4d7d-b4ec-cfe7fd91bd59",
   "metadata": {},
   "source": [
    "Python threading allows you to have different parts of your program run concurrently and can simplify your design. \n",
    "\n",
    " the method threading.active_co unt() from the threading module is used to count the currently active or running threads.\n"
   ]
  },
  {
   "cell_type": "markdown",
   "id": "4b41f8a1-bf15-4f3d-8253-6fb4014ee27b",
   "metadata": {},
   "source": [
    "current_thread() is an inbuilt method of the threading module in Python. It is used to return the current Thread object, which corresponds to the caller's thread of control."
   ]
  },
  {
   "cell_type": "markdown",
   "id": "188e84b4-c1e3-4f77-a593-d9125c26ab42",
   "metadata": {},
   "source": [
    "Enumerate() method adds a counter to an iterable and returns it in a form of enumerating object. "
   ]
  },
  {
   "cell_type": "markdown",
   "id": "10249172-b59e-429a-9362-d4882f754b5f",
   "metadata": {},
   "source": [
    "### Explain the following functions\n",
    "\n",
    "run\n",
    "\n",
    "start\n",
    " \n",
    "join\n",
    "\n",
    "isAlive"
   ]
  },
  {
   "cell_type": "markdown",
   "id": "474c2c36-3894-43f2-bfa4-0ad448e89a9c",
   "metadata": {},
   "source": [
    "A widely used way to run Python code is through an interactive session. "
   ]
  },
  {
   "cell_type": "markdown",
   "id": "3e80ac9a-7c8e-43d0-afb4-ebf733406df1",
   "metadata": {},
   "source": [
    "Thread.is_alive() method is an inbuilt method of the Thread class of the threading module in Python. "
   ]
  },
  {
   "cell_type": "markdown",
   "id": "85ce5c45-3629-4d65-b430-ef4bfe7ac7cf",
   "metadata": {},
   "source": [
    "Thread.run() method is an inbuilt method of the Thread class of the threading module in Python. This method is used to represent a thread's activity. "
   ]
  },
  {
   "cell_type": "markdown",
   "id": "9c30f921-4bcc-4ff0-9a7c-b87eeeadd4f4",
   "metadata": {},
   "source": [
    "A thread can be joined in Python by calling the Thread.join() method."
   ]
  },
  {
   "cell_type": "markdown",
   "id": "570e7955-45da-4e73-8151-aca82971decc",
   "metadata": {},
   "source": [
    "This has the effect of blocking the current thread until the target thread that has been joined has terminated.\n",
    "\n"
   ]
  },
  {
   "cell_type": "markdown",
   "id": "a52ef057-d84c-402b-bae8-716ffb8deabb",
   "metadata": {},
   "source": [
    "### Write a python program to create two threads. Thread one must print the list of squares and thread two must print the list of cubes"
   ]
  },
  {
   "cell_type": "code",
   "execution_count": 10,
   "id": "d6020e56-25c7-4f4a-a793-524e7a1ba78c",
   "metadata": {},
   "outputs": [],
   "source": [
    "import threading\n",
    "\n",
    "import logging\n",
    "logging.basicConfig(filename = \"test.log\",level = logging.INFO)\n",
    "\n",
    "def Squares(x):\n",
    "    logging.info(x**2)\n",
    "\n",
    "    \n",
    "threads = []\n",
    "for n in range(1, 11):\n",
    "    t = threading.Thread(target= Squares, args=(n,))\n",
    "    threads.append(t)\n",
    "    t.start()\n",
    "    \n",
    "for t in threads:\n",
    "    t.join()\n",
    "    "
   ]
  },
  {
   "cell_type": "code",
   "execution_count": 11,
   "id": "a28d958f-5456-401f-84b6-877a01d5e3bf",
   "metadata": {},
   "outputs": [],
   "source": [
    "import threading\n",
    "\n",
    "import logging\n",
    "logging.basicConfig(filename = \"test.log\",level = logging.INFO)\n",
    "\n",
    "def Squares(x):\n",
    "    logging.info(x**3)\n",
    "\n",
    "    \n",
    "threads = []\n",
    "for n in range(1, 11):\n",
    "    t = threading.Thread(target= Squares, args=(n,))\n",
    "    threads.append(t)\n",
    "    t.start()\n",
    "    \n",
    "for t in threads:\n",
    "    t.join()\n",
    "    "
   ]
  },
  {
   "cell_type": "markdown",
   "id": "63f4da28-b168-475f-a896-397f360aa555",
   "metadata": {},
   "source": [
    "### State advantages and disadvantages of multithreading"
   ]
  },
  {
   "cell_type": "markdown",
   "id": "7e90c2f3-c700-40bc-a7ab-cb077017b001",
   "metadata": {},
   "source": [
    "This model provides more concurrency than the many-to-one model. It also allows another thread to run when a thread makes a blocking system call. It supports multiple threads to execute in parallel on microprocessors. Disadvantage of this model is that creating user thread requires the corresponding Kernel thread."
   ]
  },
  {
   "cell_type": "markdown",
   "id": "c98e5013-27b6-4173-887d-09f92d7bef7f",
   "metadata": {},
   "source": [
    "### Explain deadlocks and race conditions."
   ]
  },
  {
   "cell_type": "markdown",
   "id": "a040867b-19d5-4691-8c5c-b3afb0540bd6",
   "metadata": {},
   "source": []
  }
 ],
 "metadata": {
  "kernelspec": {
   "display_name": "Python 3 (ipykernel)",
   "language": "python",
   "name": "python3"
  },
  "language_info": {
   "codemirror_mode": {
    "name": "ipython",
    "version": 3
   },
   "file_extension": ".py",
   "mimetype": "text/x-python",
   "name": "python",
   "nbconvert_exporter": "python",
   "pygments_lexer": "ipython3",
   "version": "3.10.8"
  }
 },
 "nbformat": 4,
 "nbformat_minor": 5
}

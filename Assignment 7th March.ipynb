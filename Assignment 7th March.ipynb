{
 "cells": [
  {
   "cell_type": "markdown",
   "id": "c05a8971-292e-4430-9f7a-f3aa2a21b151",
   "metadata": {},
   "source": [
    "### Q1. What are the three measures of central tendency?"
   ]
  },
  {
   "cell_type": "markdown",
   "id": "17f757c3-a0b8-4ae9-8d2a-366c6205f895",
   "metadata": {},
   "source": [
    "There are three main measures of central tendency: mode. median. mean."
   ]
  },
  {
   "cell_type": "markdown",
   "id": "6dfc4494-02b9-4be0-b948-1f77f48f88e9",
   "metadata": {},
   "source": [
    "### Q2. What is the difference between the mean, median, and mode? How are they used to measure the central tendency of a dataset?"
   ]
  },
  {
   "cell_type": "markdown",
   "id": "d4cff496-9b3c-4189-896c-99418bd487f5",
   "metadata": {},
   "source": [
    "The mean is the average where the sum of all the numbers is divided by the total number of numbers, whereas the median is the middle value in the list of given numbers numerically ordered from smallest to biggest and mode is the value of the number which occurs most often in the list."
   ]
  },
  {
   "cell_type": "markdown",
   "id": "1e1726ca-7aea-44d0-be30-5442a1074f85",
   "metadata": {},
   "source": [
    "### Q3. Measure the three measures of central tendency for the given height data:\n",
    "[178,177,176,177,178.2,178,175,179,180,175,178.9,176.2,177,172.5,178,176.5]"
   ]
  },
  {
   "cell_type": "code",
   "execution_count": 1,
   "id": "2ce44a95-4c36-44b2-905a-198c418dbc13",
   "metadata": {},
   "outputs": [],
   "source": [
    "Height=[178,177,176,177,178.2,178,175,179,180,175,178.9,176.2,177,172.5,178,176.5]"
   ]
  },
  {
   "cell_type": "code",
   "execution_count": 4,
   "id": "7884a417-2804-4933-81e4-3f402474f878",
   "metadata": {},
   "outputs": [
    {
     "name": "stdout",
     "output_type": "stream",
     "text": [
      "Mean of the Height: 177.01875\n",
      "Median of the Height: 177.0\n"
     ]
    }
   ],
   "source": [
    "import numpy as np\n",
    "print(\"Mean of the Height:\",np.mean(Height))\n",
    "print(\"Median of the Height:\",np.median(Height))"
   ]
  },
  {
   "cell_type": "markdown",
   "id": "c363066c-f995-45d2-aee7-4edb1d8140af",
   "metadata": {},
   "source": [
    "### Q4. Find the standard deviation for the given data:\n",
    "[178,177,176,177,178.2,178,175,179,180,175,178.9,176.2,177,172.5,178,176.5]"
   ]
  },
  {
   "cell_type": "code",
   "execution_count": 7,
   "id": "e06766f3-f278-4b07-8c15-47f52fb7930b",
   "metadata": {},
   "outputs": [
    {
     "name": "stdout",
     "output_type": "stream",
     "text": [
      "Standard Deviation of the given data is : 2.0\n"
     ]
    }
   ],
   "source": [
    "Height=[178,177,176,177,178.2,178,175,179,180,175,178.9,176.2,177,172.5,178,176.5]\n",
    "import numpy as np\n",
    "print(\"Standard Deviation of the given data is :\",round(np.std(Height),0))"
   ]
  },
  {
   "cell_type": "markdown",
   "id": "e9819ea3-edc5-4204-b1ba-539e43ae761b",
   "metadata": {},
   "source": [
    "### Q5. How are measures of dispersion such as range, variance, and standard deviation used to describe the spread of a dataset? Provide an example."
   ]
  },
  {
   "cell_type": "markdown",
   "id": "d662b556-8f03-4e4d-ae9f-3119706bbe73",
   "metadata": {},
   "source": [
    "Range: Given a data set, the range can be defined as the difference between the maximum value and the minimum value.\n",
    "\n",
    "Variance: The average squared deviation from the mean of the given data set is known as the variance. This measure of dispersion checks the spread of the data about the mean.\n",
    "\n",
    "Standard Deviation: The square root of the variance gives the standard deviation. Thus, the standard deviation also measures the variation of the data about the mean."
   ]
  },
  {
   "cell_type": "markdown",
   "id": "952a5c9f-cfb7-4ff6-8215-110e8864df26",
   "metadata": {},
   "source": [
    "### Q6. What is a Venn diagram?"
   ]
  },
  {
   "cell_type": "markdown",
   "id": "6c96e350-470b-464b-827f-56c2a7ed062d",
   "metadata": {},
   "source": [
    "A Venn diagram is a widely used diagram style that shows the logical relation between sets"
   ]
  },
  {
   "cell_type": "markdown",
   "id": "b44e5bfb-33ec-4468-bf41-ecf340e16166",
   "metadata": {},
   "source": [
    "### Q7. For the two given sets A = (2,3,4,5,6,7) & B = (0,2,6,8,10). Find:\n",
    "(i) A intersection B\n",
    "\n",
    "(ii) A ⋃ B"
   ]
  },
  {
   "cell_type": "code",
   "execution_count": 13,
   "id": "78ea9aed-9ae3-450a-9e4a-5d488e13d45d",
   "metadata": {},
   "outputs": [],
   "source": [
    "A = {2,3,4,5,6,7}\n",
    "B = {0,2,6,8,10}"
   ]
  },
  {
   "cell_type": "code",
   "execution_count": 15,
   "id": "1884cd03-2e0a-4616-99bf-fedb9fa3bfbb",
   "metadata": {},
   "outputs": [
    {
     "data": {
      "text/plain": [
       "{2, 6}"
      ]
     },
     "execution_count": 15,
     "metadata": {},
     "output_type": "execute_result"
    }
   ],
   "source": [
    "A.intersection(B)"
   ]
  },
  {
   "cell_type": "code",
   "execution_count": 16,
   "id": "9f92badf-f130-4fc3-8d4a-a16baf1bac2a",
   "metadata": {},
   "outputs": [
    {
     "data": {
      "text/plain": [
       "{0, 2, 3, 4, 5, 6, 7, 8, 10}"
      ]
     },
     "execution_count": 16,
     "metadata": {},
     "output_type": "execute_result"
    }
   ],
   "source": [
    "A.union(B)"
   ]
  },
  {
   "cell_type": "markdown",
   "id": "db3de996-86bc-420b-a3dd-c4e5f601b6ba",
   "metadata": {},
   "source": [
    "### Q8. What do you understand about skewness in data?"
   ]
  },
  {
   "cell_type": "markdown",
   "id": "9d3656a7-2868-4e1a-9a83-35d240d7092a",
   "metadata": {},
   "source": [
    " Skewness is a measurement of the distortion of symmetrical distribution or asymmetry in a data set. Skewness is demonstrated on a bell curve when data points are not distributed symmetrically to the left and right sides of the median on a bell curve."
   ]
  },
  {
   "cell_type": "markdown",
   "id": "23ade4a7-e591-4359-9902-26df3177c83d",
   "metadata": {},
   "source": [
    "### Q9. If a data is right skewed then what will be the position of median with respect to mean?"
   ]
  },
  {
   "cell_type": "markdown",
   "id": "dd43f559-8b87-416b-8379-b9c9e0c05ae7",
   "metadata": {},
   "source": [
    "Right skewed distributions indicate that majority of the data is located on the left side of the graph, and the mean, or average, is greater than the median. There are values in the data set that are much greater than the median, or the value where 50% of the data is either lower or higher."
   ]
  },
  {
   "cell_type": "markdown",
   "id": "70890ba0-e657-4bcf-97e6-f7c079aae293",
   "metadata": {},
   "source": [
    "### Q10. Explain the difference between covariance and correlation. How are these measures used in statistical analysis?"
   ]
  },
  {
   "cell_type": "markdown",
   "id": "7e0f8bbf-7928-4db5-bd33-6d1db60d0cf8",
   "metadata": {},
   "source": [
    "Covariance is an indicator of the extent to which 2 random variables are dependent on each other. A higher number denotes higher dependency. Correlation is a statistical measure that indicates how strongly two variables are related. The value of covariance lies in the range of -1 and +1."
   ]
  },
  {
   "cell_type": "markdown",
   "id": "6db4c2de-5d78-40fa-bf2d-18e9c36083d3",
   "metadata": {},
   "source": [
    "### Q11. What is the formula for calculating the sample mean? Provide an example calculation for a dataset."
   ]
  },
  {
   "cell_type": "markdown",
   "id": "bf9c3752-a5d3-41a1-8651-97d2a024f3dd",
   "metadata": {},
   "source": [
    "The general formula for calculating the sample mean is given by x̄ = ( Σ xi ) / n. Here, x̄ represents the sample mean, xi refers all X sample values and n stands for the number of sample terms in the data set."
   ]
  },
  {
   "cell_type": "markdown",
   "id": "cebe48b3-2fe2-499c-b279-175a7b8f678f",
   "metadata": {},
   "source": [
    "### Q12. For a normal distribution data what is the relationship between its measure of central tendency?"
   ]
  },
  {
   "cell_type": "markdown",
   "id": "a53ac2de-b926-4d2d-a455-5ec825680773",
   "metadata": {},
   "source": [
    "Any normal distribution has a graph that is perfectly symmetric about a vertical line through its peak. Therefore, all measures of central tendency (most commonly, the mean, median, and mode) give the same answer: the x -value of the peak."
   ]
  },
  {
   "cell_type": "markdown",
   "id": "5596302e-192c-4255-af3e-e43a1b859844",
   "metadata": {},
   "source": [
    "### Q13. How is covariance different from correlation?\n"
   ]
  },
  {
   "cell_type": "markdown",
   "id": "890198b0-d51d-4977-82be-f5a1947e453a",
   "metadata": {},
   "source": [
    "Covariance and correlation are two terms that are opposed and are both used in statistics and regression analysis. Covariance shows you how the two variables differ, whereas correlation shows you how the two variables are related."
   ]
  },
  {
   "cell_type": "markdown",
   "id": "ee4e8d04-aa3b-407c-b5bb-0b2398602f7b",
   "metadata": {},
   "source": [
    "### Q14. How do outliers affect measures of central tendency and dispersion? Provide an example."
   ]
  },
  {
   "cell_type": "code",
   "execution_count": null,
   "id": "409de05f-c5d1-46bf-9ad4-5ddfd0641bb6",
   "metadata": {},
   "outputs": [],
   "source": []
  }
 ],
 "metadata": {
  "kernelspec": {
   "display_name": "Python 3 (ipykernel)",
   "language": "python",
   "name": "python3"
  },
  "language_info": {
   "codemirror_mode": {
    "name": "ipython",
    "version": 3
   },
   "file_extension": ".py",
   "mimetype": "text/x-python",
   "name": "python",
   "nbconvert_exporter": "python",
   "pygments_lexer": "ipython3",
   "version": "3.10.8"
  }
 },
 "nbformat": 4,
 "nbformat_minor": 5
}

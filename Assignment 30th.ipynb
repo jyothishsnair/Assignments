{
 "cells": [
  {
   "cell_type": "code",
   "execution_count": null,
   "id": "5a93cdd6-b4db-451f-b0f3-64bbea4018f7",
   "metadata": {},
   "outputs": [],
   "source": [
    "Percentage = int(input(\"Enter the Percentage\"))\n",
    "if Percentage > 90:\n",
    "    print(\"Grade A\")\n",
    "elif Percentage > 80 and Percentage  <= 90:\n",
    "    print(\"Grade B\")\n",
    "elif Percentage >= 60 and Percentage <= 80:\n",
    "    print(\"Grade C\")\n",
    "elif Percentage < 60:\n",
    "     print(\"Grade D\")\n",
    "    \n",
    "                 "
   ]
  },
  {
   "cell_type": "markdown",
   "id": "9497f924-1daf-4718-b36c-0378c0f93a53",
   "metadata": {},
   "source": [
    "## 2.Write a program to accept the cost price of a bike and display the road tax to be paid according:"
   ]
  },
  {
   "cell_type": "code",
   "execution_count": 1,
   "id": "c796cd7b-2828-4c28-9165-72e7c733a8b6",
   "metadata": {},
   "outputs": [
    {
     "name": "stdin",
     "output_type": "stream",
     "text": [
      "Enter the bike amount 50000\n"
     ]
    },
    {
     "name": "stdout",
     "output_type": "stream",
     "text": [
      "Cost price of a bike is 50000 and the tax to be paid is 5%.i.e 2500.0 and total amount would be 52500.0\n"
     ]
    }
   ],
   "source": [
    "Cost_of_bike=int(input(\"Enter the bike amount\"))\n",
    "if Cost_of_bike > 100000:\n",
    "    print(\"Cost price of a bike is\",Cost_of_bike,\"and the tax to be paid is 15%.i.e\",Cost_of_bike*(15/100),\"and total amount would be\",Cost_of_bike+Cost_of_bike*(15/100))\n",
    "elif Cost_of_bike > 50000 and Cost_of_bike <= 100000:\n",
    "    print(\"Cost price of a bike is\",Cost_of_bike,\"and the tax to be paid is 10%.i.e\",Cost_of_bike*(10/100),\"and total amount would be\",Cost_of_bike+Cost_of_bike*(10/100))\n",
    "elif Cost_of_bike <= 50000:\n",
    "    print(\"Cost price of a bike is\",Cost_of_bike,\"and the tax to be paid is 5%.i.e\",Cost_of_bike*(5/100),\"and total amount would be\",Cost_of_bike+Cost_of_bike*(5/100))\n",
    "    \n",
    "    "
   ]
  },
  {
   "cell_type": "markdown",
   "id": "3331cf11-721b-4d8a-99ef-d68babf6e8be",
   "metadata": {},
   "source": [
    "## 3.Accept any city from the user and display monumnets of that city."
   ]
  },
  {
   "cell_type": "code",
   "execution_count": 2,
   "id": "c51feb96-b33c-4663-9954-dc9dff31d7a7",
   "metadata": {},
   "outputs": [],
   "source": [
    "Monuments_info={'Udaipur':'City of Lakes','Jodhpur':'Blue City, Sun City','Jaipur':'Pink City','Ahmedabad':'The Manchester of India','Bhopal':'City of Lakes','Surat':'The Diamond City','Lucknow':'City of Nawabs','Muzaffarpur':'Lychee City','Kanpur':'Leather City of the World','Mumbai':'City of Dreams','Pune':'Queen of Deccan','Nagpur':'The Orange City','Jalgoan':'Banana City','Yavatmal':'Cotton City','Nashik':'Wine Capital of India','Bengaluru':'Silicon Valley of India','Mangalore':'Rome of the East','Coorg':'Scotland of India','Mysore/ Mysuru':'Sandalwood City','Kolkata':'City of Joy','Asansol':'The City of Brotherhood','Visakhapatnam':'City of Destiny','Hyderabad':'City of Pearls','Kochi':'Queen of the Arabian Sea','Thrissur':'The Cultural capital of Kerala','Kollam':'Cashew capital of the world','Madurai':'The city that never sleeps','Chennai':'Detroit of Asia','Coimbatore':'Manchester of South India','Pondicherry':'Paris of the East','Kashmir':'Switzerland of India','Jamshedpur':'Steel City of India','Bhubaneswar':'Temple City','Shillong':'Scotland of the East','Damodar Valley':'The Ruhr of India','Amritsar':'The Holy City','Guntur':'Land of Chillies','Tirupati':'Spiritual capital of Andhra Pradesh','Vijayawada':'The Place of Victory','Dibrugarh':'Tea City of India','Guwahati':'Gateway to the North-east India','Tezpur':'The City of Blood','Bhagalpur':'Silk City of India','Nalanda':'The Land of Knowledge','Bhilai':'Steel Capital of India','Korba':'Power Hub of India','New Delhi':'City of Rallies','Gurgaon/ Gurugram':'Millennium City','Bhiwani':'Mini Cuba','Srinagar':'City of Lakes','Dhanbad':'Coal Capital of India','Jamshedpur':'Steel City, Pittsburgh of India','Kozhikode':'City of Spices','Indore':'Mini Mumbai','Ujjain':'City of Temples','Rourkela':'Steel City of Odisha','Deogarh':'City of Waterfalls','Patiala':'Royal City','Ludhiana':'Manchester of Punjab','Ooty':'Queen of Hill Stations','Agra':'City of Taj, Petha Nagri','Allahabad/ Prayagraj':'City of Prime Ministers, The Sangam City','Varanasi':'The City of Light','Mussoorie':'Queen of the Mountains','Rishikesh':'Yoga City','Delhi':'Red Fort'}"
   ]
  },
  {
   "cell_type": "code",
   "execution_count": 4,
   "id": "1473a044-b2c2-4162-8414-2446f3ca53ae",
   "metadata": {},
   "outputs": [
    {
     "name": "stdin",
     "output_type": "stream",
     "text": [
      "Enter the City Delhi\n"
     ]
    },
    {
     "data": {
      "text/plain": [
       "'Delhi : Red Fort'"
      ]
     },
     "execution_count": 4,
     "metadata": {},
     "output_type": "execute_result"
    }
   ],
   "source": [
    "City=input(\"Enter the City\")\n",
    "def Monument():\n",
    "    Monuments_info\n",
    "    return Monuments_info[City]\n",
    "City+\" : \"+Monument()"
   ]
  },
  {
   "cell_type": "markdown",
   "id": "805cc59a-91f3-42fc-9c13-c0ae5a732589",
   "metadata": {},
   "source": [
    "## 4.Check how many times a given number can be divided by 3 before it is less than or equal to 10."
   ]
  },
  {
   "cell_type": "code",
   "execution_count": 22,
   "id": "6312fde2-0b63-4d31-8df4-3d4885c30579",
   "metadata": {},
   "outputs": [
    {
     "name": "stdin",
     "output_type": "stream",
     "text": [
      "Enter the number 9\n"
     ]
    },
    {
     "name": "stdout",
     "output_type": "stream",
     "text": [
      "Given numner is 1 and it can be divided by 3 in  2 times\n"
     ]
    }
   ],
   "source": [
    "def div(n,p=3):\n",
    "    i=0\n",
    "    while n%p==0:\n",
    "        n/=p\n",
    "        i+=1\n",
    "    print(\"Given numner is\",int(n),\"and it can be divided by 3 in \",i,\"times\")\n",
    "            \n",
    "n=int(input(\"Enter the number\"))\n",
    "div(n)\n"
   ]
  },
  {
   "cell_type": "markdown",
   "id": "f87b5e04-09b7-4536-a14c-f7cbdc4702dd",
   "metadata": {},
   "source": [
    "## 5.Why and when to use while loop in python give a detail description with example."
   ]
  },
  {
   "cell_type": "markdown",
   "id": "6a681b4e-a730-4d7c-ace0-7bb469ea2687",
   "metadata": {},
   "source": [
    "While Loop is used to execute a block of statements repeatedly until a given condition is satisfied. And when the condition becomes false, the line immediately after the loop in the program is executed.\n",
    "\n",
    "  while expression:\n",
    "  \n",
    "    statement(s)"
   ]
  },
  {
   "cell_type": "markdown",
   "id": "762f1676-5498-4d72-bc41-21921994bd67",
   "metadata": {},
   "source": [
    "## 6.Use nested while loop to print 3 different pattern."
   ]
  },
  {
   "cell_type": "markdown",
   "id": "1354ace3-8481-40c4-b69a-142c0be1c39b",
   "metadata": {},
   "source": [
    "### Pattern 1"
   ]
  },
  {
   "cell_type": "code",
   "execution_count": 2,
   "id": "81287dde-f869-4e6d-a1f7-e429f807f5a4",
   "metadata": {},
   "outputs": [
    {
     "name": "stdout",
     "output_type": "stream",
     "text": [
      "#\n",
      "##\n",
      "###\n",
      "####\n",
      "#####\n",
      "######\n",
      "#######\n",
      "########\n",
      "#########\n",
      "##########\n"
     ]
    }
   ],
   "source": [
    "n=10\n",
    "\n",
    "a=1\n",
    "b=0\n",
    "while a<=n:\n",
    "    while b<=a-1:\n",
    "        print(\"#\",end=\"\")\n",
    "        b=b+1\n",
    "    print(\"\\r\")\n",
    "    b=0;a=a+1"
   ]
  },
  {
   "cell_type": "markdown",
   "id": "17ee1128-b038-417f-9b45-6cbea5264851",
   "metadata": {},
   "source": [
    "### Pattern 2"
   ]
  },
  {
   "cell_type": "code",
   "execution_count": 3,
   "id": "14b529f2-c1cc-4f05-9b94-54de2ed16405",
   "metadata": {},
   "outputs": [
    {
     "name": "stdout",
     "output_type": "stream",
     "text": [
      "     \n",
      "    *\n",
      "   **\n",
      "  ***\n",
      " ****\n",
      "*****\n"
     ]
    }
   ],
   "source": [
    "n=5;i=0\n",
    "while i<=n:\n",
    "    print(\" \"*(n-i)+\"*\"*i)\n",
    "    i=i+1"
   ]
  },
  {
   "cell_type": "code",
   "execution_count": null,
   "id": "ef8d1676-5ee8-4476-81f3-73e150f2beec",
   "metadata": {},
   "outputs": [],
   "source": [
    "n=5;i=0\n",
    "while i<=n:\n",
    "    print(\" \"*(n-i)+\"*\"*i)\n",
    "    i=i+1"
   ]
  },
  {
   "cell_type": "markdown",
   "id": "fb5f8599-8695-4836-996f-310dcfcf47e8",
   "metadata": {},
   "source": [
    "## 7.Revese a while loop to display number from 10 to 1."
   ]
  },
  {
   "cell_type": "code",
   "execution_count": 7,
   "id": "52abbcf1-78f8-4ee7-b90c-dd750c7fe753",
   "metadata": {},
   "outputs": [
    {
     "name": "stdout",
     "output_type": "stream",
     "text": [
      "10\n",
      "9\n",
      "8\n",
      "7\n",
      "6\n",
      "5\n",
      "4\n",
      "3\n",
      "2\n",
      "1\n"
     ]
    }
   ],
   "source": [
    "i=10\n",
    "while i >=1:\n",
    "    print(i)\n",
    "    i=i-1"
   ]
  },
  {
   "cell_type": "markdown",
   "id": "ee6706a9-9043-4fcd-8882-548838235ccf",
   "metadata": {},
   "source": [
    "## 8.Revese a while loop to display number from 10 to 1"
   ]
  },
  {
   "cell_type": "code",
   "execution_count": 8,
   "id": "12bd344f-4a80-4efc-b509-50dd50778ed1",
   "metadata": {},
   "outputs": [
    {
     "name": "stdout",
     "output_type": "stream",
     "text": [
      "10\n",
      "9\n",
      "8\n",
      "7\n",
      "6\n",
      "5\n",
      "4\n",
      "3\n",
      "2\n",
      "1\n"
     ]
    }
   ],
   "source": [
    "i=10\n",
    "while i >=1:\n",
    "    print(i)\n",
    "    i=i-1"
   ]
  },
  {
   "cell_type": "code",
   "execution_count": null,
   "id": "2305d2cf-3764-4ed3-a430-623f0a02df51",
   "metadata": {},
   "outputs": [],
   "source": []
  }
 ],
 "metadata": {
  "kernelspec": {
   "display_name": "Python 3 (ipykernel)",
   "language": "python",
   "name": "python3"
  },
  "language_info": {
   "codemirror_mode": {
    "name": "ipython",
    "version": 3
   },
   "file_extension": ".py",
   "mimetype": "text/x-python",
   "name": "python",
   "nbconvert_exporter": "python",
   "pygments_lexer": "ipython3",
   "version": "3.10.8"
  }
 },
 "nbformat": 4,
 "nbformat_minor": 5
}

{
 "cells": [
  {
   "cell_type": "markdown",
   "id": "32debb3f-b5c7-4c7c-8887-a4e12f92c131",
   "metadata": {
    "tags": []
   },
   "source": [
    "## Q1. Create a function which will take a list as an argument and return the product of all the numbers after creating a flat list.\n",
    "## Use the below-given list as an argument for your function.\n",
    "\n",
    "list1 = [1,2,3,4, [44,55,66, True], False, (34,56,78,89,34), {1,2,3,3,2,1}, {1:34, \"key2\": [55, 67, 78, 89], 4: (45,22, 61, 34)}, [56, 'data science'], 'Machine Learning']\n",
    "\n",
    " Note: you must extract numeric keys and values of the dictionary also."
   ]
  },
  {
   "cell_type": "code",
   "execution_count": 31,
   "id": "1372ce93-7bd9-4298-8087-0ecf3585cda3",
   "metadata": {},
   "outputs": [],
   "source": [
    "list1 = [1,2,3,4, [44,55,66, True], False, (34,56,78,89,34), {1,2,3,3,2,1}, {1:34, \"key2\": [55, 67, 78, 89], 4: (45,22, 61, 34)}, [56, 'data science'], 'Machine Learning']"
   ]
  },
  {
   "cell_type": "code",
   "execution_count": 59,
   "id": "875d5b82-2d9e-4bdc-b519-e8e3ef961d76",
   "metadata": {},
   "outputs": [],
   "source": [
    "def product_numober_list(l):\n",
    "    l1=[]\n",
    "    Flat_list=[]\n",
    "    Product=1\n",
    "    for i in l:\n",
    "        if type(i)==int or type(i)==bool:\n",
    "            l1.append(i)\n",
    "        elif type(i)==dict:\n",
    "            for a in i.values():\n",
    "                if type(a)==int:\n",
    "                    l1.append(a)\n",
    "                else:\n",
    "                    l1.extend(a)\n",
    "        else:\n",
    "            l1.extend(i)\n",
    "    for j in l1:\n",
    "        if type(j)==int:\n",
    "            Flat_list.append(j)\n",
    "            Product=Product*j\n",
    "    print(\"Flat_list is :  \\n\\n\",Flat_list,\"\\n\\nThe product of all number in the given list are :\",Product)"
   ]
  },
  {
   "cell_type": "code",
   "execution_count": 60,
   "id": "b4e98771-ea3e-4cec-bc95-2fa002ad9df9",
   "metadata": {},
   "outputs": [
    {
     "name": "stdout",
     "output_type": "stream",
     "text": [
      "Flat_list is :  \n",
      "\n",
      " [1, 2, 3, 4, 44, 55, 66, 34, 56, 78, 89, 34, 1, 2, 3, 34, 55, 67, 78, 89, 45, 22, 61, 34, 56] \n",
      "\n",
      "The product of all number in the given list are : 1033677959746771369708460310528000\n"
     ]
    }
   ],
   "source": [
    "product_numober_list(list1)"
   ]
  },
  {
   "cell_type": "markdown",
   "id": "75692357-c1f3-430a-9b85-0670dde31e8d",
   "metadata": {},
   "source": [
    "## Q2. Write a python program for encrypting a message sent to you by your friend. The logic of encryption should be such that, for a the output should be z. For b, the output should be y. For c, the output should be x respectively. Also, the whitespace should be replaced with a dollar sign. Keep the punctuation marks unchanged.\n",
    "\n",
    "Input Sentence: I want to become a Data Scientist.\n",
    "\n",
    "Encrypt the above input sentence using the program you just created.\n",
    "Note: Convert the given input sentence into lowercase before encrypting. The final output should be\n",
    "lowercase."
   ]
  },
  {
   "cell_type": "code",
   "execution_count": 52,
   "id": "d2387fa9-a0aa-4d98-9581-ef176162f8bd",
   "metadata": {},
   "outputs": [],
   "source": [
    "def Encrypt(L):\n",
    "    L=list(Input_Sentence.lower())\n",
    "    en=\"abcdefghijklmnopqrstuvwxyz\"\n",
    "    string=\"\"\n",
    "    for i in L:\n",
    "        if i==' ':\n",
    "            string=string+\"$\"\n",
    "        elif i=='.':\n",
    "            continue\n",
    "        else:\n",
    "            string=string+en[-(en.rfind(i)+1)]\n",
    "    return string+'.'\n",
    "   "
   ]
  },
  {
   "cell_type": "code",
   "execution_count": 53,
   "id": "86a65b19-e690-4849-8a3d-35cdcae88a36",
   "metadata": {},
   "outputs": [
    {
     "name": "stdin",
     "output_type": "stream",
     "text": [
      "Enter your sentence for encryption : I want to become a Data Scientist.\n"
     ]
    },
    {
     "name": "stdout",
     "output_type": "stream",
     "text": [
      "Given Input:  I want to become a Data Scientist.\n",
      "i want to become a data scientist.\n"
     ]
    },
    {
     "data": {
      "text/plain": [
       "'r$dzmg$gl$yvxlnv$z$wzgz$hxrvmgrhg.'"
      ]
     },
     "execution_count": 53,
     "metadata": {},
     "output_type": "execute_result"
    }
   ],
   "source": [
    "Input_Sentence=input(\"Enter your sentence for encryption :\")\n",
    "print(\"Given Input: \", Input_Sentence)\n",
    "print(Input_Sentence.lower())\n",
    "Encrypt(Input_Sentence)"
   ]
  },
  {
   "cell_type": "code",
   "execution_count": 51,
   "id": "0a97930e-7873-4d97-a318-f9d25993265b",
   "metadata": {},
   "outputs": [
    {
     "ename": "TypeError",
     "evalue": "unsupported operand type(s) for -: 'list' and 'int'",
     "output_type": "error",
     "traceback": [
      "\u001b[0;31m---------------------------------------------------------------------------\u001b[0m",
      "\u001b[0;31mTypeError\u001b[0m                                 Traceback (most recent call last)",
      "Cell \u001b[0;32mIn[51], line 4\u001b[0m\n\u001b[1;32m      2\u001b[0m L\u001b[38;5;241m=\u001b[39m\u001b[38;5;28mlist\u001b[39m(Input_Sentence\u001b[38;5;241m.\u001b[39mlower())\n\u001b[1;32m      3\u001b[0m en\u001b[38;5;241m=\u001b[39m\u001b[38;5;124m\"\u001b[39m\u001b[38;5;124mabcdefghijklmnopqrstuvwxyz\u001b[39m\u001b[38;5;124m\"\u001b[39m\n\u001b[0;32m----> 4\u001b[0m \u001b[38;5;28;01mfor\u001b[39;00m i \u001b[38;5;129;01min\u001b[39;00m \u001b[43mL\u001b[49m\u001b[38;5;241;43m-\u001b[39;49m\u001b[38;5;241;43m1\u001b[39;49m:\n\u001b[1;32m      5\u001b[0m     \u001b[38;5;28mprint\u001b[39m(i)\n",
      "\u001b[0;31mTypeError\u001b[0m: unsupported operand type(s) for -: 'list' and 'int'"
     ]
    }
   ],
   "source": [
    "Input_Sentence=\"I want to become a Data Scientist.\"\n",
    "L=list(Input_Sentence.lower())\n",
    "en=\"abcdefghijklmnopqrstuvwxyz\""
   ]
  },
  {
   "cell_type": "code",
   "execution_count": 50,
   "id": "28dd0726-f602-4143-abf5-e8a0dd027e9f",
   "metadata": {},
   "outputs": [
    {
     "data": {
      "text/plain": [
       "'.'"
      ]
     },
     "execution_count": 50,
     "metadata": {},
     "output_type": "execute_result"
    }
   ],
   "source": [
    "L[-1]"
   ]
  },
  {
   "cell_type": "code",
   "execution_count": null,
   "id": "34fb6078-d298-43e9-b375-4d3cfdac09f9",
   "metadata": {},
   "outputs": [],
   "source": []
  }
 ],
 "metadata": {
  "kernelspec": {
   "display_name": "Python 3 (ipykernel)",
   "language": "python",
   "name": "python3"
  },
  "language_info": {
   "codemirror_mode": {
    "name": "ipython",
    "version": 3
   },
   "file_extension": ".py",
   "mimetype": "text/x-python",
   "name": "python",
   "nbconvert_exporter": "python",
   "pygments_lexer": "ipython3",
   "version": "3.10.8"
  }
 },
 "nbformat": 4,
 "nbformat_minor": 5
}

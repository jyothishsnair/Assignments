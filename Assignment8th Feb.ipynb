{
 "cells": [
  {
   "cell_type": "markdown",
   "id": "54576d07-f4e5-4557-b4e9-017c5fdcb05e",
   "metadata": {},
   "source": [
    "### Q1. What is Abstraction in OOps? Explain with an example."
   ]
  },
  {
   "cell_type": "markdown",
   "id": "da1b20c2-80bb-452b-a10b-c946e8f15985",
   "metadata": {},
   "source": [
    "-> Abstraction is used to hide the internal functionality of the fuction from the user.\n",
    "\n",
    "-> User is familiar with that \"What function does\" but they don't know \"how it does\"\n",
    "\n",
    "-> Abstraction helps in reducing programming efforts and reduce coding complexity.\n"
   ]
  },
  {
   "cell_type": "code",
   "execution_count": 1,
   "id": "9185983b-043e-40d8-8980-2299ce896847",
   "metadata": {},
   "outputs": [],
   "source": [
    "class car:\n",
    "    \n",
    "    def __init__(self):\n",
    "        self.brand=\"VW\"\n",
    "    \n",
    "    def details(self):\n",
    "        self.speed = 12\n",
    "        self.color = \"Black\"\n",
    "        self.Milage = 90\n",
    "        \n",
    "    def price(self):\n",
    "        self.onroad=\"23000000\""
   ]
  },
  {
   "cell_type": "code",
   "execution_count": 2,
   "id": "cfbd0d3e-6d1e-4df7-bcba-df2cc0f47fb8",
   "metadata": {},
   "outputs": [],
   "source": [
    "obj=car()"
   ]
  },
  {
   "cell_type": "code",
   "execution_count": 4,
   "id": "551bc586-f10b-44cc-b41e-89acfef952d6",
   "metadata": {},
   "outputs": [
    {
     "data": {
      "text/plain": [
       "'VW'"
      ]
     },
     "execution_count": 4,
     "metadata": {},
     "output_type": "execute_result"
    }
   ],
   "source": [
    "obj.brand"
   ]
  },
  {
   "cell_type": "markdown",
   "id": "1202c10a-90c2-492e-b8bf-d3bc7ac4edca",
   "metadata": {},
   "source": [
    "### Q2. Differentiate between Abstraction and Encapsulation. Explain with an example."
   ]
  },
  {
   "cell_type": "markdown",
   "id": "8d233a7c-5092-43a1-b9b5-357b60a36683",
   "metadata": {},
   "source": [
    "#### Abstraction"
   ]
  },
  {
   "cell_type": "markdown",
   "id": "60df7b81-9a88-4d5a-95a6-42161cbdb7fc",
   "metadata": {},
   "source": [
    "-> Abstraction solve the problem in thr design level.\n",
    "\n",
    "-> Abstraction is used for hiding the unwanted data."
   ]
  },
  {
   "cell_type": "code",
   "execution_count": 10,
   "id": "9daa9904-2b28-4d19-8c77-2828f3dcf127",
   "metadata": {},
   "outputs": [],
   "source": [
    "class car:\n",
    "    \n",
    "    def __init__(self):\n",
    "        self.brand=\"VW\"\n",
    "    \n",
    "    def details(self):\n",
    "        self.speed = 12\n",
    "        self.color = \"Black\"\n",
    "        self.Milage = 90\n",
    "        \n",
    "    def price(self):\n",
    "        self.onroad=\"23000000\""
   ]
  },
  {
   "cell_type": "markdown",
   "id": "c2fa0c33-ee2c-4b86-93dc-b62fbc126a3f",
   "metadata": {},
   "source": [
    "#### Encapsulation"
   ]
  },
  {
   "cell_type": "markdown",
   "id": "55e78c71-3a96-46bd-9f5c-ca8a2ee7d6ef",
   "metadata": {},
   "source": [
    "-> Encapsulation solves the proble in the implementation level\n",
    "\n",
    "-> Hiding the code and data into a single unit to protect the data from outside world."
   ]
  },
  {
   "cell_type": "code",
   "execution_count": 12,
   "id": "9a46340c-3a81-4a8f-9fa5-7f68265bb6c0",
   "metadata": {},
   "outputs": [],
   "source": [
    "class car:\n",
    "    \n",
    "    def __init__(self,name,speed,color):\n",
    "        self.__name = name\n",
    "        self.__speed = speed\n",
    "        self.__color  = color"
   ]
  },
  {
   "cell_type": "code",
   "execution_count": 14,
   "id": "29e70925-5534-4437-a827-3cd3726b34cd",
   "metadata": {},
   "outputs": [],
   "source": [
    "obj = car(\"VW\",90,\"Black\")"
   ]
  },
  {
   "cell_type": "markdown",
   "id": "8b153834-8263-4664-b341-f9e77261d7dd",
   "metadata": {},
   "source": [
    "### Q3. What is abc module in python? Why is it used?"
   ]
  },
  {
   "cell_type": "markdown",
   "id": "4ce29f10-a0e8-4d05-a81c-fa48a9049271",
   "metadata": {},
   "source": [
    "-> The 'abc' module in the Python library provides the infrastructure for defining custom abstract base classes.\n",
    "\n"
   ]
  },
  {
   "cell_type": "markdown",
   "id": "ec072fcb-2b88-4f4a-8fa6-86d083c7fa8b",
   "metadata": {},
   "source": [
    "### Q4. How can we achieve data abstraction?"
   ]
  },
  {
   "cell_type": "markdown",
   "id": "7c0eed2c-3ff0-498f-ac73-a291b3d2137e",
   "metadata": {},
   "source": [
    "-> In Python, abstraction can be achieved by having/using abstract classes and methods in our programs."
   ]
  },
  {
   "cell_type": "markdown",
   "id": "38f96197-e581-4eab-9165-baebbb1d3e09",
   "metadata": {},
   "source": [
    "### Q5. Can we create an instance of an abstract class? Explain your answer."
   ]
  },
  {
   "cell_type": "code",
   "execution_count": null,
   "id": "0e1226dd-89c8-4568-bff4-bb8d35b35067",
   "metadata": {},
   "outputs": [],
   "source": []
  }
 ],
 "metadata": {
  "kernelspec": {
   "display_name": "Python 3 (ipykernel)",
   "language": "python",
   "name": "python3"
  },
  "language_info": {
   "codemirror_mode": {
    "name": "ipython",
    "version": 3
   },
   "file_extension": ".py",
   "mimetype": "text/x-python",
   "name": "python",
   "nbconvert_exporter": "python",
   "pygments_lexer": "ipython3",
   "version": "3.10.8"
  }
 },
 "nbformat": 4,
 "nbformat_minor": 5
}

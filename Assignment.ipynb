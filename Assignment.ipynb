{
 "cells": [
  {
   "cell_type": "markdown",
   "id": "0e1473e7-9963-4516-b719-a6e320defc0b",
   "metadata": {},
   "source": [
    "## Q1.Explain with an example each when to use for loop and a while loop."
   ]
  },
  {
   "cell_type": "markdown",
   "id": "e4158ddf-86eb-47f6-969f-f17b8570887b",
   "metadata": {},
   "source": [
    "### While Loop"
   ]
  },
  {
   "cell_type": "raw",
   "id": "5581a633-bf00-4f18-93be-17076637485a",
   "metadata": {},
   "source": [
    "-> It is used to run a code until a certain condition is met."
   ]
  },
  {
   "cell_type": "markdown",
   "id": "c94ea689-4c22-4ce1-898f-57509237fa79",
   "metadata": {},
   "source": [
    "The Syntax of while loop is:\n",
    "        \n",
    "        while condition:\n",
    "              # body of while loop\n",
    "    "
   ]
  },
  {
   "cell_type": "markdown",
   "id": "23f20de3-0915-4b99-a830-8b5335b21269",
   "metadata": {},
   "source": [
    "-> A while loop evaluate the condition."
   ]
  },
  {
   "cell_type": "markdown",
   "id": "d4b18199-6a01-42f5-9135-cfa503966bd1",
   "metadata": {},
   "source": [
    "-> if the condtion evaluate to TRUE, the code inside the while loop runs."
   ]
  },
  {
   "cell_type": "markdown",
   "id": "2cebd174-2c9f-4b4a-b502-18b543d56412",
   "metadata": {},
   "source": [
    "-> Process continues until the condition is FALSE"
   ]
  },
  {
   "cell_type": "markdown",
   "id": "e8db305f-080c-44ed-b7e4-398fd4c53328",
   "metadata": {},
   "source": [
    "-> When condition evaluates to FALSE the loop stops."
   ]
  },
  {
   "cell_type": "markdown",
   "id": "4750ac78-d6ad-49f6-8191-36d97993e686",
   "metadata": {},
   "source": [
    "Example: Sum up the number based on the input."
   ]
  },
  {
   "cell_type": "code",
   "execution_count": 1,
   "id": "54c10fe9-048d-48eb-a43b-61fd70e7be02",
   "metadata": {},
   "outputs": [
    {
     "name": "stdin",
     "output_type": "stream",
     "text": [
      "Enter the limit 4\n"
     ]
    },
    {
     "data": {
      "text/plain": [
       "10"
      ]
     },
     "execution_count": 1,
     "metadata": {},
     "output_type": "execute_result"
    }
   ],
   "source": [
    "a=int(input(\"Enter the limit\"))\n",
    "starting_point=0\n",
    "counter=1\n",
    "while counter <= a:\n",
    "    starting_point=starting_point + counter\n",
    "    counter=counter+1\n",
    "starting_point"
   ]
  },
  {
   "cell_type": "markdown",
   "id": "298dd147-7350-45f5-8355-87891b9d37d4",
   "metadata": {},
   "source": [
    "### For Loop"
   ]
  },
  {
   "cell_type": "markdown",
   "id": "dfa63181-c278-496c-9c41-90974a103bc2",
   "metadata": {},
   "source": [
    "-> It is used to run a code for a certain number of time.\n",
    "\n",
    "-> It is used to iterate over any sequence such as list,tuple,string etc."
   ]
  },
  {
   "cell_type": "markdown",
   "id": "98168757-c0bd-492c-b549-113781105e13",
   "metadata": {},
   "source": [
    "The syntax of For Loop is:\n",
    "\n",
    "        For val in sequence:\n",
    "            # statement(s)"
   ]
  },
  {
   "cell_type": "markdown",
   "id": "007b18f9-d73f-4ad5-9642-f51545f9f763",
   "metadata": {},
   "source": [
    "Example: Revese the string given in the input"
   ]
  },
  {
   "cell_type": "code",
   "execution_count": 2,
   "id": "17e8d20e-31c5-4fcf-93b2-ff784b6b0ca7",
   "metadata": {},
   "outputs": [
    {
     "name": "stdin",
     "output_type": "stream",
     "text": [
      "Enter the string PWSKILLS\n"
     ]
    },
    {
     "data": {
      "text/plain": [
       "'SLLIKSWP'"
      ]
     },
     "execution_count": 2,
     "metadata": {},
     "output_type": "execute_result"
    }
   ],
   "source": [
    "string=input(\"Enter the string\")\n",
    "reverse=\"\"\n",
    "for a in range(len(string)-1,-1,-1):\n",
    "    reverse = reverse + string[a]\n",
    "reverse"
   ]
  },
  {
   "cell_type": "markdown",
   "id": "eb66f3be-5e08-44a0-a6ea-04df17d26bbd",
   "metadata": {},
   "source": [
    "## Q2.Write a python program to print the sum and product of the first 10 natural number using For and While Loop."
   ]
  },
  {
   "cell_type": "markdown",
   "id": "c2782380-42d8-49a3-8c99-fccdbe0e85c8",
   "metadata": {},
   "source": [
    "### For Loop"
   ]
  },
  {
   "cell_type": "code",
   "execution_count": 3,
   "id": "f8a4e15c-aa89-4135-9d06-0feeb943c251",
   "metadata": {},
   "outputs": [
    {
     "name": "stdout",
     "output_type": "stream",
     "text": [
      "The sum and product of the first 10 natural number is 55 and 3628800\n"
     ]
    }
   ],
   "source": [
    "Sum=0\n",
    "Product=1\n",
    "for i in range(1,11,1):\n",
    "    Sum = Sum + i\n",
    "    Product = Product * i\n",
    "print(\"The sum and product of the first 10 natural number is\",Sum,\"and\",Product)"
   ]
  },
  {
   "cell_type": "markdown",
   "id": "5b5d0fbf-f17f-4f17-9c10-2e39c2ef4784",
   "metadata": {},
   "source": [
    "### While Loop"
   ]
  },
  {
   "cell_type": "code",
   "execution_count": 4,
   "id": "efc2abd2-979d-40d9-85e3-c14914b120e7",
   "metadata": {},
   "outputs": [
    {
     "name": "stdout",
     "output_type": "stream",
     "text": [
      "The sum and product of the first 10 natural number is 55 and 3628800\n"
     ]
    }
   ],
   "source": [
    "Sum=0\n",
    "Product=1\n",
    "i=1\n",
    "while i < 11:\n",
    "    Sum = Sum + i\n",
    "    Product = Product * i\n",
    "    i = i+1\n",
    "print(\"The sum and product of the first 10 natural number is\",Sum,\"and\",Product)"
   ]
  },
  {
   "cell_type": "markdown",
   "id": "d08530a5-1cf0-49f6-aef4-f845a39053b3",
   "metadata": {},
   "source": [
    " ## Q3. Create a python program to compute the electricity bill for a household.\n",
    "## The per-unit charges in rupees are as follows: For the first 100 units, the user will be charged Rs. 4.5 perunit, for the next 100 units, the user will be charged Rs. 6 per unit, and for the next 100 units, the user will be charged Rs. 10 per unit, After 300 units and above the user will be charged Rs. 20 per unit.\n",
    "\n",
    "## You are required to take the units of electricity consumed in a month from the user as input.\n",
    "\n",
    "## Your program must pass this test case: when the unit of electricity consumed by the user in a month is 310, the total electricity bill should be 2250."
   ]
  },
  {
   "cell_type": "code",
   "execution_count": 5,
   "id": "63844ab3-b070-46b2-a4a0-4ec3de780f69",
   "metadata": {},
   "outputs": [
    {
     "name": "stdin",
     "output_type": "stream",
     "text": [
      "Units of Electricity Consumed in a Month 310\n"
     ]
    },
    {
     "name": "stdout",
     "output_type": "stream",
     "text": [
      "Price for 310 Units of Electircity Consumed in a month is Rs. 6200\n"
     ]
    }
   ],
   "source": [
    "Units=int(input(\"Units of Electricity Consumed in a Month\"))\n",
    "Price=0\n",
    "\n",
    "if Units <=100:\n",
    "    Price = Units * 4.5\n",
    "elif Units<=200 and Units >100:\n",
    "    Price = Units * 6\n",
    "elif Units<=300 and Units>200:\n",
    "    Price = Units * 10\n",
    "elif Units > 300:\n",
    "    Price = Units * 20\n",
    "print(\"Price for\",Units,\"Units of Electircity Consumed in a month is Rs.\",Price)"
   ]
  },
  {
   "cell_type": "markdown",
   "id": "28dee83b-1f1c-4e5a-ab31-07ea78f6a3d8",
   "metadata": {},
   "source": [
    "## Q4. Create a list of numbers from 1 to 100. Use for loop and while loop to calculate the cube of each number and if the cube of that number is divisible by 4 or 5 then append that number in a list and print that list."
   ]
  },
  {
   "cell_type": "code",
   "execution_count": 6,
   "id": "f50ce646-67f2-4c5b-a381-09c42fe83e58",
   "metadata": {},
   "outputs": [
    {
     "name": "stdout",
     "output_type": "stream",
     "text": [
      "[1, 2, 3, 4, 5, 6, 7, 8, 9, 10, 11, 12, 13, 14, 15, 16, 17, 18, 19, 20, 21, 22, 23, 24, 25, 26, 27, 28, 29, 30, 31, 32, 33, 34, 35, 36, 37, 38, 39, 40, 41, 42, 43, 44, 45, 46, 47, 48, 49, 50, 51, 52, 53, 54, 55, 56, 57, 58, 59, 60, 61, 62, 63, 64, 65, 66, 67, 68, 69, 70, 71, 72, 73, 74, 75, 76, 77, 78, 79, 80, 81, 82, 83, 84, 85, 86, 87, 88, 89, 90, 91, 92, 93, 94, 95, 96, 97, 98, 99, 100]\n"
     ]
    }
   ],
   "source": [
    "Number= list(range(1,101,1))\n",
    "print(Number)"
   ]
  },
  {
   "cell_type": "markdown",
   "id": "ec5951c5-b8d5-4777-9b36-5df3fa04f7ae",
   "metadata": {},
   "source": [
    "### For Loop"
   ]
  },
  {
   "cell_type": "code",
   "execution_count": 7,
   "id": "d5489407-22c2-42f4-8222-ad865a24014e",
   "metadata": {},
   "outputs": [
    {
     "name": "stdout",
     "output_type": "stream",
     "text": [
      "[2, 4, 5, 6, 8, 10, 12, 14, 15, 16, 18, 20, 22, 24, 25, 26, 28, 30, 32, 34, 35, 36, 38, 40, 42, 44, 45, 46, 48, 50, 52, 54, 55, 56, 58, 60, 62, 64, 65, 66, 68, 70, 72, 74, 75, 76, 78, 80, 82, 84, 85, 86, 88, 90, 92, 94, 95, 96, 98, 100]\n"
     ]
    }
   ],
   "source": [
    "L=[]\n",
    "for i in Number:\n",
    "    a=Number[i-1]\n",
    "    if (a*a*a) % 4==0 or (a*a*a) % 5==0:\n",
    "        L.append(a)\n",
    "print(L)\n"
   ]
  },
  {
   "cell_type": "markdown",
   "id": "9ee90c58-6b9d-46fa-abea-654e2ea6745e",
   "metadata": {},
   "source": [
    "### While Loop"
   ]
  },
  {
   "cell_type": "code",
   "execution_count": 15,
   "id": "9922b9f2-1d90-45fd-8850-1b28786df4fe",
   "metadata": {},
   "outputs": [
    {
     "name": "stdout",
     "output_type": "stream",
     "text": [
      "[2, 4, 5, 6, 8, 10, 12, 14, 15, 16, 18, 20, 22, 24, 25, 26, 28, 30, 32, 34, 35, 36, 38, 40, 42, 44, 45, 46, 48, 50, 52, 54, 55, 56, 58, 60, 62, 64, 65, 66, 68, 70, 72, 74, 75, 76, 78, 80, 82, 84, 85, 86, 88, 90, 92, 94, 95, 96, 98, 100]\n"
     ]
    }
   ],
   "source": [
    "Number\n",
    "\n",
    "L=[]\n",
    "i=0\n",
    "while i < len(Number):\n",
    "    a=Number[i]\n",
    "    if (a*a*a) % 4 ==0 or (a*a*a) % 5 ==0:\n",
    "        L.append(a)\n",
    "    i = i + 1\n",
    "print(L)"
   ]
  },
  {
   "cell_type": "markdown",
   "id": "92914233-90c2-4fd8-bc19-f0d7a7fb14ca",
   "metadata": {},
   "source": [
    "## Q5. Write a program to filter count vowels in the below-given string.\n"
   ]
  },
  {
   "cell_type": "code",
   "execution_count": 48,
   "id": "b739a6da-61f4-4ffe-8a4c-4b16878c2268",
   "metadata": {},
   "outputs": [],
   "source": [
    "string = \"I want to become a data scientist\""
   ]
  },
  {
   "cell_type": "code",
   "execution_count": 64,
   "id": "03f7d2ca-6ce9-4d3e-b5ac-e83d2cf502f1",
   "metadata": {},
   "outputs": [
    {
     "name": "stdout",
     "output_type": "stream",
     "text": [
      "Total vowles in the string is: 12\n"
     ]
    }
   ],
   "source": [
    "s= list(string.split())\n",
    "count_vowles=[]\n",
    "vowels=\"aeiou\"\n",
    "for i in s:\n",
    "    for j in i:\n",
    "        if j.lower() in vowels:\n",
    "            count_vowles.append(j)\n",
    "print(\"Total vowles in the string is:\",len(count_vowles))       "
   ]
  },
  {
   "cell_type": "code",
   "execution_count": null,
   "id": "9ede5e1d-9729-4033-8f9e-b34dc26057a7",
   "metadata": {},
   "outputs": [],
   "source": []
  },
  {
   "cell_type": "code",
   "execution_count": null,
   "id": "aec7dd2d-c591-4c50-8961-de9978eb37eb",
   "metadata": {},
   "outputs": [],
   "source": []
  }
 ],
 "metadata": {
  "kernelspec": {
   "display_name": "Python 3 (ipykernel)",
   "language": "python",
   "name": "python3"
  },
  "language_info": {
   "codemirror_mode": {
    "name": "ipython",
    "version": 3
   },
   "file_extension": ".py",
   "mimetype": "text/x-python",
   "name": "python",
   "nbconvert_exporter": "python",
   "pygments_lexer": "ipython3",
   "version": "3.10.8"
  }
 },
 "nbformat": 4,
 "nbformat_minor": 5
}

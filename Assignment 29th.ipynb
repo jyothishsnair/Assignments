{
 "cells": [
  {
   "cell_type": "markdown",
   "id": "7164df1f-5e27-40df-a495-29b0e38097e4",
   "metadata": {},
   "source": [
    "#### 1. Who developed python programming Language?"
   ]
  },
  {
   "cell_type": "code",
   "execution_count": null,
   "id": "e9ebf855-b1fb-44f3-82f3-224c6e130be9",
   "metadata": {},
   "outputs": [],
   "source": [
    "#  Guido Van Rossum"
   ]
  },
  {
   "cell_type": "markdown",
   "id": "3138c342-620b-4b34-88a4-50366c4ac721",
   "metadata": {},
   "source": [
    "#### 2. Which type of programming does python support?"
   ]
  },
  {
   "cell_type": "code",
   "execution_count": null,
   "id": "ab84deb9-cf6a-468b-a3af-1530910398c4",
   "metadata": {},
   "outputs": [],
   "source": [
    "# Object oriended Programming and Structured Programming Language"
   ]
  },
  {
   "cell_type": "markdown",
   "id": "322a961b-ede0-46cd-b03d-7d3c7b7b7a20",
   "metadata": {},
   "source": [
    "#### 3. Is python case sensitive when dealing with identifiers?"
   ]
  },
  {
   "cell_type": "markdown",
   "id": "4cf76dbc-b6be-4a37-95a3-69d6413ab28b",
   "metadata": {},
   "source": [
    "-> Yes,Python is a case sensitive language i.e it treat upper case and lower case character differenetly."
   ]
  },
  {
   "cell_type": "markdown",
   "id": "072d0fc1-ff8c-41e0-b720-6ab4367da321",
   "metadata": {},
   "source": [
    "#### 4.What is the correct extention of the Python file?"
   ]
  },
  {
   "cell_type": "markdown",
   "id": "00f85df6-b117-4ac7-8b5d-4c305b7a156f",
   "metadata": {},
   "source": [
    "-> .py is the extention of the Python file."
   ]
  },
  {
   "cell_type": "markdown",
   "id": "78a9c190-ed59-416f-82c2-12dbbe3aeea5",
   "metadata": {},
   "source": [
    "#### 5.Is Python code compiled or interpreted?"
   ]
  },
  {
   "cell_type": "markdown",
   "id": "af931637-f6bb-4db2-8c71-2221bd77c03a",
   "metadata": {},
   "source": [
    "-> Python is both complied as well as an interpreted languare.\n",
    "\n",
    "-> When we ran a python code,it first compiled and then interpreted line by line.\n",
    "\n",
    "-> The copmpiliation part hidden from the user."
   ]
  },
  {
   "cell_type": "markdown",
   "id": "c1480736-610b-4a37-a6cd-035da65c57a2",
   "metadata": {},
   "source": [
    "#### 6. Name a few blocks of code used to define in python language?"
   ]
  },
  {
   "cell_type": "markdown",
   "id": "9bce7281-cba6-4070-b933-e865d0c5dfea",
   "metadata": {},
   "source": [
    "-> A block is a piece of Python Program text that is executed as a unit.\n",
    "\n",
    "-> The following are block : a model, a function body and a class function.\n"
   ]
  },
  {
   "cell_type": "markdown",
   "id": "61e13407-4b74-49d9-8ba1-3234345f49bf",
   "metadata": {},
   "source": [
    "#### 7.State a character used to givesingle-line comments in python?"
   ]
  },
  {
   "cell_type": "code",
   "execution_count": null,
   "id": "2888eeb6-9111-4c39-9114-f2232da8ece8",
   "metadata": {},
   "outputs": [],
   "source": [
    "# Hash Character"
   ]
  },
  {
   "cell_type": "markdown",
   "id": "1e5b081d-52b7-48b6-9441-9d056682f5d0",
   "metadata": {},
   "source": [
    "#### 8.Mention function which can help us to find the version of python that we are currently working on?"
   ]
  },
  {
   "cell_type": "markdown",
   "id": "3d79a4a5-cac4-4bfb-bf74-d5804fb1999e",
   "metadata": {},
   "source": [
    "-> The function sys.version can help to find the version pf the python that we are currently working on.\n",
    "\n",
    "-> It also contains information on the build number and compiler used and also return the current date,time bits also."
   ]
  },
  {
   "cell_type": "markdown",
   "id": "dd19f9c1-26ce-462a-b592-158039808415",
   "metadata": {},
   "source": [
    "#### 9.Python supports the creation of anonymous function at riuntime ,using a constant called "
   ]
  },
  {
   "cell_type": "code",
   "execution_count": null,
   "id": "5098c277-e4b0-48d3-912b-4040d5413bd5",
   "metadata": {},
   "outputs": [],
   "source": [
    "#lambda"
   ]
  },
  {
   "cell_type": "markdown",
   "id": "738d553f-8523-4e02-b335-6b1041ae8dfe",
   "metadata": {},
   "source": [
    "#### 10.What does pip stand for python?"
   ]
  },
  {
   "cell_type": "markdown",
   "id": "300e9e78-b728-4467-ac26-128635617708",
   "metadata": {},
   "source": [
    "PIP stnd for Preferred Installer Program.It widely used as a Package management system."
   ]
  },
  {
   "cell_type": "markdown",
   "id": "143a84e6-931e-482c-ba35-5d8cffe7cf32",
   "metadata": {},
   "source": [
    "#### 11.Mention a few built in function in python?"
   ]
  },
  {
   "cell_type": "code",
   "execution_count": null,
   "id": "b1172b6d-6b7e-4649-ba84-7f6caf89fb64",
   "metadata": {},
   "outputs": [],
   "source": [
    "print() # print the specified message."
   ]
  },
  {
   "cell_type": "code",
   "execution_count": null,
   "id": "c408dd68-5856-4423-9516-575e19fe82dc",
   "metadata": {},
   "outputs": [],
   "source": [
    "type() # return the type of the specified variable."
   ]
  },
  {
   "cell_type": "code",
   "execution_count": null,
   "id": "c3e715fb-b860-4a52-9cae-df8fb34b6de3",
   "metadata": {},
   "outputs": [],
   "source": [
    "max() # return the item with the maximum value "
   ]
  },
  {
   "cell_type": "code",
   "execution_count": null,
   "id": "20d357c9-8f70-43d9-af44-38e7aa4267cb",
   "metadata": {},
   "outputs": [],
   "source": [
    "round() # returna floating point number"
   ]
  },
  {
   "cell_type": "code",
   "execution_count": null,
   "id": "43cd782e-5a5a-4095-b021-32f184758196",
   "metadata": {},
   "outputs": [],
   "source": [
    "len() # the count of of item presen in the object"
   ]
  },
  {
   "cell_type": "markdown",
   "id": "ee7128c4-9649-4caf-a1b6-d5a25a7ddf05",
   "metadata": {},
   "source": [
    "#### 12. What is the maximum possible length of an identifier in python?"
   ]
  },
  {
   "cell_type": "code",
   "execution_count": null,
   "id": "7cb92cc2-95fb-4044-990e-36c3ccc9a668",
   "metadata": {},
   "outputs": [],
   "source": [
    "# 79 Character"
   ]
  },
  {
   "cell_type": "markdown",
   "id": "5c62bdae-33f9-421e-976d-e6c59750fc81",
   "metadata": {},
   "source": [
    "#### 13.What are the benefits of using Python?"
   ]
  },
  {
   "cell_type": "markdown",
   "id": "9137fab1-7fa6-44d2-aaf1-ff4985451199",
   "metadata": {},
   "source": [
    "-> Easy to read,lean and write\n",
    "\n",
    "-> Object oriented and procedural Lnaguage\n",
    "\n",
    "-> Open source amd large active community base.\n",
    "\n",
    "-> Portable and interactive.\n",
    "\n",
    "-> Dynamically typed language.\n"
   ]
  },
  {
   "cell_type": "markdown",
   "id": "f17025af-3fa7-4d5d-83a1-892adc7b5b13",
   "metadata": {},
   "source": [
    "#### 14. How is memory managed in python?"
   ]
  },
  {
   "cell_type": "markdown",
   "id": "27707d92-90a7-4ec0-9dae-b6bdba881110",
   "metadata": {},
   "source": [
    "-> Managed by python private heap space allocating a block of space in the computer memory to a programme."
   ]
  },
  {
   "cell_type": "markdown",
   "id": "79c10ce1-5f85-478f-9033-d6d8a19a00c8",
   "metadata": {},
   "source": [
    "#### 15. How to istall python on window and set path variable?"
   ]
  },
  {
   "cell_type": "markdown",
   "id": "63adf28f-31fd-4c66-bc91-2651a8f1f68d",
   "metadata": {},
   "source": [
    "Intall Python -> https://www.python.org/downloads/\n",
    "\n",
    "After installiation , look for the location when python has been installed.\n",
    "\n",
    "Use command promt: cmd python then go to system setting and add new variable and name it as PYTHON_NAME "
   ]
  },
  {
   "cell_type": "markdown",
   "id": "2ab24625-db01-4228-9576-8f2815fa8c2a",
   "metadata": {},
   "source": [
    "#### 16. Is indentation required in python."
   ]
  },
  {
   "cell_type": "markdown",
   "id": "473e0d55-1513-41a0-9d61-87c38153bfb2",
   "metadata": {},
   "source": [
    "-> Indentation in python is the most important.\n",
    "\n",
    "-> It indicate a block of code.\n",
    "\n",
    "\n"
   ]
  },
  {
   "cell_type": "code",
   "execution_count": null,
   "id": "9166cf94-4db1-48a2-b583-2294822bb15b",
   "metadata": {},
   "outputs": [],
   "source": []
  }
 ],
 "metadata": {
  "kernelspec": {
   "display_name": "Python 3 (ipykernel)",
   "language": "python",
   "name": "python3"
  },
  "language_info": {
   "codemirror_mode": {
    "name": "ipython",
    "version": 3
   },
   "file_extension": ".py",
   "mimetype": "text/x-python",
   "name": "python",
   "nbconvert_exporter": "python",
   "pygments_lexer": "ipython3",
   "version": "3.10.8"
  }
 },
 "nbformat": 4,
 "nbformat_minor": 5
}

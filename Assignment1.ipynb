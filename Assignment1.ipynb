{
 "cells": [
  {
   "cell_type": "markdown",
   "id": "dc34026e-594f-4e26-b589-f069d83c0f9d",
   "metadata": {},
   "source": [
    "1. In the below elements which of them are values or an expression? eg:- values can be integer or string and expressions will be mathematical operators.\n",
    "*\n",
    "\n",
    "'hello'\n",
    "\n",
    "-87.8\n",
    "\n",
    "- \n",
    "\n",
    "/ \n",
    "\n",
    "+\t\n",
    "\n",
    "6 \n"
   ]
  },
  {
   "cell_type": "markdown",
   "id": "f36122b5-d362-456c-89a5-d0f7f88a6006",
   "metadata": {},
   "source": [
    "*  Expression\n",
    "\n",
    "'hello' Value\n",
    "\n",
    "-87.8 Value\n",
    "\n",
    "-87.8 Value\n",
    "\n",
    "- Expression\n",
    "\n",
    "/ Expression\n",
    "\n",
    "+ Expression\n",
    "\n",
    "6 Value"
   ]
  },
  {
   "cell_type": "markdown",
   "id": "31ccfae0-726f-4df7-bd87-9e07b7ceff1d",
   "metadata": {},
   "source": [
    "2. What is the difference between string and variable?"
   ]
  },
  {
   "cell_type": "markdown",
   "id": "7e06cb61-62a2-4b8a-9b0e-d4ebcc4796fd",
   "metadata": {},
   "source": [
    "Variable: Variable is used to store the information.\n",
    "\n",
    "String: String is a type of informatiom in the variable."
   ]
  },
  {
   "cell_type": "markdown",
   "id": "fa61cb10-17a6-4935-ad25-6f2ef84e7cf2",
   "metadata": {},
   "source": [
    "3. Describe three different data types."
   ]
  },
  {
   "cell_type": "markdown",
   "id": "fb850225-03e3-41ff-9c47-7791d3f231c1",
   "metadata": {},
   "source": [
    "Integer,Float,String are the different type of data type."
   ]
  },
  {
   "cell_type": "markdown",
   "id": "301411f5-b778-42cd-ba57-350aec12fa48",
   "metadata": {},
   "source": [
    "4. What is an expression made up of? What do all expressions do?"
   ]
  },
  {
   "cell_type": "markdown",
   "id": "171f3613-d999-48cf-967c-5587e605353d",
   "metadata": {},
   "source": [
    "A combination of operands and operators is called an expression.The expression in python produced some value or result after being interpreted by the python interpreter."
   ]
  },
  {
   "cell_type": "markdown",
   "id": "32482473-a5f2-4e5d-970b-20efe4c2ce96",
   "metadata": {},
   "source": [
    "5. This assignment statements, like spam = 10. What is the difference between an expression and a statement?"
   ]
  },
  {
   "cell_type": "markdown",
   "id": "49e614ea-7645-48e2-9c67-6c1d6c9bcd8a",
   "metadata": {},
   "source": [
    "An expression evaluate a single value.A statment does not."
   ]
  },
  {
   "cell_type": "markdown",
   "id": "9b53cb30-060e-4e1e-be8f-377835a8110d",
   "metadata": {},
   "source": [
    "6. After running the following code, what does the variable bacon contain?\n",
    "\n",
    "\n"
   ]
  },
  {
   "cell_type": "code",
   "execution_count": 6,
   "id": "55a82535-33f6-4cb7-99f7-b1b8068e8415",
   "metadata": {},
   "outputs": [
    {
     "data": {
      "text/plain": [
       "23"
      ]
     },
     "execution_count": 6,
     "metadata": {},
     "output_type": "execute_result"
    }
   ],
   "source": [
    "bacon = 22\n",
    "\n",
    "bacon + 1"
   ]
  },
  {
   "cell_type": "markdown",
   "id": "e949a3f9-24e7-4514-a43e-ee0e3bddfed2",
   "metadata": {},
   "source": [
    "7. What should the values of the following two terms be?\n",
    "\n"
   ]
  },
  {
   "cell_type": "code",
   "execution_count": 3,
   "id": "2b090203-0524-40de-a875-93c52e634625",
   "metadata": {},
   "outputs": [
    {
     "data": {
      "text/plain": [
       "'spamspamspam'"
      ]
     },
     "execution_count": 3,
     "metadata": {},
     "output_type": "execute_result"
    }
   ],
   "source": [
    "'spam' + 'spamspam'\n"
   ]
  },
  {
   "cell_type": "code",
   "execution_count": 4,
   "id": "3b3385c7-8076-4dd3-8950-99ddd4498650",
   "metadata": {},
   "outputs": [
    {
     "data": {
      "text/plain": [
       "'spamspamspam'"
      ]
     },
     "execution_count": 4,
     "metadata": {},
     "output_type": "execute_result"
    }
   ],
   "source": [
    "'spam' * 3"
   ]
  },
  {
   "cell_type": "markdown",
   "id": "88bfa593-e742-4edf-b0ad-39fc53e001ba",
   "metadata": {},
   "source": [
    "8. Why is eggs a valid variable name while 100 is invalid?"
   ]
  },
  {
   "cell_type": "markdown",
   "id": "ff6c80ec-cdee-47fd-a429-d9221f488fab",
   "metadata": {},
   "source": [
    "Varibale name cannot begin with a number."
   ]
  },
  {
   "cell_type": "markdown",
   "id": "ee54651e-7e21-486a-9142-431313b8e350",
   "metadata": {},
   "source": [
    "9. What three functions can be used to get the integer, floating-point number, or string version of a value?"
   ]
  },
  {
   "cell_type": "code",
   "execution_count": null,
   "id": "fc697d69-6b16-4ec7-a10a-c8b078897831",
   "metadata": {},
   "outputs": [],
   "source": [
    "int() - Integer\n",
    "\n",
    "float() "
   ]
  }
 ],
 "metadata": {
  "kernelspec": {
   "display_name": "Python 3 (ipykernel)",
   "language": "python",
   "name": "python3"
  },
  "language_info": {
   "codemirror_mode": {
    "name": "ipython",
    "version": 3
   },
   "file_extension": ".py",
   "mimetype": "text/x-python",
   "name": "python",
   "nbconvert_exporter": "python",
   "pygments_lexer": "ipython3",
   "version": "3.10.8"
  }
 },
 "nbformat": 4,
 "nbformat_minor": 5
}

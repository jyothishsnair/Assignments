{
 "cells": [
  {
   "cell_type": "markdown",
   "id": "8608104c-069a-4128-963b-82031201899d",
   "metadata": {},
   "source": [
    "### Q1. What is an Exception in python? Write the difference between Exceptions and  syntax errors?"
   ]
  },
  {
   "cell_type": "markdown",
   "id": "98b08142-9ddd-4104-a533-22dc9f471864",
   "metadata": {},
   "source": [
    "An Exception might indicate conditions that an application should try to catch. "
   ]
  },
  {
   "cell_type": "markdown",
   "id": "aded7ea3-542f-4cde-8b3c-7b9d7ac7888d",
   "metadata": {},
   "source": [
    "A syntax error occurs when the structure of a program does not conform to the rules of the programming language. Syntax errors are usually detected by the compiler or interpreter when the program is being compiled or executed, and they prevent the program from running. Syntax errors are usually caused by mistakes in the source code, such as typos, omissions, or incorrect use of syntax.\n",
    "\n",
    "An exception is an abnormal event that occurs during the execution of a program. Exceptions are usually caused by runtime errors, such as dividing by zero, trying to access an element in an array with an out-of-bounds index, or trying to access a file that does not exist. Exceptions are not syntax errors, but they can still prevent the program from running if they are not handled properly."
   ]
  },
  {
   "cell_type": "markdown",
   "id": "3364f401-24be-4b03-838c-bb7d4e6797ed",
   "metadata": {},
   "source": [
    "### Q2. What happens when an exception is not handled? Explain with an example?"
   ]
  },
  {
   "cell_type": "markdown",
   "id": "31f2c7f3-e204-4e9a-80c1-f1cd19febcc0",
   "metadata": {},
   "source": [
    "If no exception handler for a given exception is present, the program stops executing with an error message."
   ]
  },
  {
   "cell_type": "code",
   "execution_count": 1,
   "id": "12ef2f03-9ddd-4e1f-bc1a-96123e038cf8",
   "metadata": {},
   "outputs": [],
   "source": [
    "try:\n",
    "    f=open(\"testt.txt\",'r')\n",
    "except Exception as e:\n",
    "    print(\"this is my except block\",e)"
   ]
  },
  {
   "cell_type": "markdown",
   "id": "8d423e02-31fb-47bb-9357-ed8b74ac7bd3",
   "metadata": {},
   "source": [
    "### Q3. Which Python statements are used to catch and handle exceptions? Explain with an example?"
   ]
  },
  {
   "cell_type": "markdown",
   "id": "0b253e49-928b-4b25-ab6c-44482a6157f2",
   "metadata": {},
   "source": [
    "The try and except block in Python is used to catch and handle exceptions. Python executes code following the try statement as a “normal” part of the program. The code that follows the except statement is the program's response to any exceptions in the preceding try clause."
   ]
  },
  {
   "cell_type": "code",
   "execution_count": 3,
   "id": "8ff227a9-caa0-44de-a5bf-fd17e2c21bfd",
   "metadata": {},
   "outputs": [
    {
     "name": "stdout",
     "output_type": "stream",
     "text": [
      "this is my except block [Errno 2] No such file or directory: 'testtt.txt'\n"
     ]
    }
   ],
   "source": [
    "try:\n",
    "    f=open(\"testtt.txt\",'r')\n",
    "    f.write(\"write into my file\")\n",
    "except Exception as e:\n",
    "    print(\"this is my except block\",e)"
   ]
  },
  {
   "cell_type": "markdown",
   "id": "40c12019-5428-4d7c-8122-6623e4ca8426",
   "metadata": {},
   "source": [
    "### Q4. Explain with an example:\n",
    "## try and else\n",
    "\n",
    "## finally\n",
    "\n",
    "## raise"
   ]
  },
  {
   "cell_type": "markdown",
   "id": "2300660d-a59c-4789-893e-0254930f4213",
   "metadata": {},
   "source": [
    "The try block lets you test a block of code for errors.\n",
    "\n",
    "The except block lets you handle the error.\n",
    "\n",
    "The else block lets you execute code when there is no error.\n",
    "\n",
    "The finally block lets you execute code, regardless of the result of the try- and except blocks.\n",
    "\n"
   ]
  },
  {
   "cell_type": "code",
   "execution_count": 35,
   "id": "e661faf8-39fa-48ce-b526-19da6d061f24",
   "metadata": {},
   "outputs": [],
   "source": [
    "try:\n",
    "    logging.info(\"Hello\")\n",
    "except:\n",
    "    logging.info(\"Somethig went wrong\")\n",
    "else:\n",
    "    logging.info(\"Nothing went wrong\")"
   ]
  },
  {
   "cell_type": "code",
   "execution_count": 36,
   "id": "6d645441-2475-4867-95d3-30643d7675b5",
   "metadata": {},
   "outputs": [],
   "source": [
    "try:\n",
    "    looging.info(x)\n",
    "except:\n",
    "    logging.info(\"Something went wrong\")\n",
    "finally:\n",
    "    logging.info(\"The 'try except' is finished\")"
   ]
  },
  {
   "cell_type": "code",
   "execution_count": 44,
   "id": "d0bba3f0-6b4a-4f99-ba1c-04948f422e71",
   "metadata": {},
   "outputs": [
    {
     "ename": "TypeError",
     "evalue": "Only integers are allowed",
     "output_type": "error",
     "traceback": [
      "\u001b[0;31m---------------------------------------------------------------------------\u001b[0m",
      "\u001b[0;31mTypeError\u001b[0m                                 Traceback (most recent call last)",
      "Cell \u001b[0;32mIn[44], line 4\u001b[0m\n\u001b[1;32m      1\u001b[0m x \u001b[38;5;241m=\u001b[39m \u001b[38;5;124m\"\u001b[39m\u001b[38;5;124mhello\u001b[39m\u001b[38;5;124m\"\u001b[39m\n\u001b[1;32m      3\u001b[0m \u001b[38;5;28;01mif\u001b[39;00m \u001b[38;5;129;01mnot\u001b[39;00m \u001b[38;5;28mtype\u001b[39m(x) \u001b[38;5;129;01mis\u001b[39;00m \u001b[38;5;28mint\u001b[39m:\n\u001b[0;32m----> 4\u001b[0m   \u001b[38;5;28;01mraise\u001b[39;00m \u001b[38;5;167;01mTypeError\u001b[39;00m(\u001b[38;5;124m\"\u001b[39m\u001b[38;5;124mOnly integers are allowed\u001b[39m\u001b[38;5;124m\"\u001b[39m)\n",
      "\u001b[0;31mTypeError\u001b[0m: Only integers are allowed"
     ]
    }
   ],
   "source": [
    "x = \"hello\"\n",
    "\n",
    "if not type(x) is int:\n",
    "  raise TypeError(\"Only integers are allowed\")"
   ]
  },
  {
   "cell_type": "markdown",
   "id": "1822a2ae-6a2e-4d68-85b2-050e3263d9d6",
   "metadata": {},
   "source": [
    "### Q5. What are Custom Ex,eptions in python? Why do we need Custom Ex,eptions? Explain with an example?"
   ]
  },
  {
   "cell_type": "markdown",
   "id": "11ac97a8-79cb-49bf-964e-15c6cd7a04b9",
   "metadata": {},
   "source": [
    "Custom exceptions by creating a new class that is derived from the built-in Exception class."
   ]
  },
  {
   "cell_type": "code",
   "execution_count": 4,
   "id": "86c3f0d9-7de6-4067-bf26-9e1a9e06e60d",
   "metadata": {},
   "outputs": [],
   "source": [
    "import logging\n"
   ]
  },
  {
   "cell_type": "code",
   "execution_count": 5,
   "id": "28e55f8f-07c5-4321-84ee-1f477085c05b",
   "metadata": {},
   "outputs": [],
   "source": [
    "logging.basicConfig(filename = \"t1.log\",level = logging.DEBUG)"
   ]
  },
  {
   "cell_type": "code",
   "execution_count": 11,
   "id": "43525a59-8540-4c31-8ff3-a1c735138fee",
   "metadata": {},
   "outputs": [],
   "source": [
    "class validateage(Exception):\n",
    "    def __init__(self,msg):\n",
    "        self.msg = msg"
   ]
  },
  {
   "cell_type": "code",
   "execution_count": 30,
   "id": "b8c027e8-b093-4701-bc38-aaa280dae618",
   "metadata": {},
   "outputs": [],
   "source": [
    "def validage(age):\n",
    "    if age<0:\n",
    "        raise validateage(logging.info(\"Age {} is Negative\".format(age)))\n",
    "    elif age>200:\n",
    "        raise  validateage(logging.info(\"Age {} is very High\".format(age)))\n",
    "    else:\n",
    "        logging.info(\" age {} is vaild\".format(age))\n",
    "        "
   ]
  },
  {
   "cell_type": "markdown",
   "id": "87018a04-b3fa-4d2b-a4d8-1af50c19f43e",
   "metadata": {},
   "source": [
    "### Create a custom exception ,l\n",
    "\n",
    "ss. Use this ,l\n",
    "ss to h\n",
    "ndle\n",
    "n ex,eption."
   ]
  },
  {
   "cell_type": "code",
   "execution_count": 32,
   "id": "fa9d1381-3266-4939-9355-bddb6c153f9b",
   "metadata": {},
   "outputs": [
    {
     "name": "stdin",
     "output_type": "stream",
     "text": [
      "Enter the age -20\n"
     ]
    }
   ],
   "source": [
    "try:\n",
    "    age = int(input(\"Enter the age\"))\n",
    "    validateage(age)\n",
    "except validateage as e:\n",
    "    logging.info(e)\n",
    "    "
   ]
  },
  {
   "cell_type": "code",
   "execution_count": null,
   "id": "a75f2fd2-7963-4ce3-b28f-6914a7376f69",
   "metadata": {},
   "outputs": [],
   "source": []
  }
 ],
 "metadata": {
  "kernelspec": {
   "display_name": "Python 3 (ipykernel)",
   "language": "python",
   "name": "python3"
  },
  "language_info": {
   "codemirror_mode": {
    "name": "ipython",
    "version": 3
   },
   "file_extension": ".py",
   "mimetype": "text/x-python",
   "name": "python",
   "nbconvert_exporter": "python",
   "pygments_lexer": "ipython3",
   "version": "3.10.8"
  }
 },
 "nbformat": 4,
 "nbformat_minor": 5
}
